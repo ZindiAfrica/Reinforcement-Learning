{
 "cells": [
  {
   "cell_type": "markdown",
   "metadata": {},
   "source": [
    "# Explanation\n",
    "\n",
    "My 3rd place result may have been a fluke. I am a mathematician by training (a topologist/geometer in particular), but I have recently been learning about data science because the university I teach at recently started a data science program. My background in biology/chemistry consists of high school courses 30 years ago. I found \"Indaba Grand Challenge: Curing Leishmaniasis\" because of a biology/math double-major advisee of mine. She really wanted to work on a math/data science project this summer and had already worked on a project about Leishmaniasis with a pharmacist at our university. I found the competition while searching for stuff like \"data science, Leishmaniasis\" on the internet and thought it looked interesting. \n",
    "\n",
    "I stopped working on actual submissions after I kept getting submission errors, so it has been a while since I looked at this code. To be honest, I cannot find the particular code that lead to my best submissions but I will explain what I did. It was a very naive approach and I actually misunderstood what data I was using in the beginning. I started by downloading the notebooks at https://gitlab.com/instadeep-public/grandchallenge. I did not realize at the time that the notebook \"Bootstrap notebook\" was not about _Leishmania_, but about _Trypanosoma_ (or rather that the two were different). I copied the \"Bootstrap notebook\" and thought I was training models to predict a compound's potency in regards to an enzyme in Leishmania. I trained models to predict potency using the data from ChEMBL and then made predictions on the provided compounds. I submitted the top few candidates. I stopped working on actual submissions when I kept getting errors, so my models were pretty basic. I started with the models in the notebook I downloaded (RandomForestRegressor, MLPRegressor, SVR) and then used LGBMRegressor from LightGBM. I did not tune it much, but my top submissions came from using LGBMRegressor as my predictor. I could not get pyrosetta installed on either my mac or my pc, so I used an online docker (https://mcule.com/apps/1-click-docking/) to generate the pdb files. That is where my submissions came from. I do now realize that _Trypanosoma_ and _Leishmania_ are different and have been learning background material and looking at recent papers to see what approaches people are using.\n",
    "\n",
    "This notebook is not my best work. I do not have much coding experience and I am too busy right now to invest much time into editing it. I mean no disrespect by submitting a notebook that needs some editing, but I wanted to give you some sort of explanation about where my submissions came from. I appreciate the introduction to this field (especially the data)."
   ]
  },
  {
   "cell_type": "code",
   "execution_count": 1,
   "metadata": {},
   "outputs": [],
   "source": [
    "import seaborn as sns\n",
    "from sklearn.preprocessing import StandardScaler\n",
    "from sklearn.model_selection import KFold, RandomizedSearchCV, GridSearchCV"
   ]
  },
  {
   "cell_type": "code",
   "execution_count": 2,
   "metadata": {},
   "outputs": [],
   "source": [
    "import numpy as np\n",
    "import pandas as pd"
   ]
  },
  {
   "cell_type": "code",
   "execution_count": 3,
   "metadata": {},
   "outputs": [],
   "source": [
    "from rdkit import Chem\n",
    "from rdkit.Chem import AllChem\n",
    "from rdkit.Chem import Draw\n",
    "from rdkit.Chem.Draw import IPythonConsole\n",
    "from IPython.display import Image\n",
    "from rdkit.Chem import Descriptors"
   ]
  },
  {
   "cell_type": "code",
   "execution_count": 4,
   "metadata": {},
   "outputs": [],
   "source": [
    "import lightgbm as lgb"
   ]
  },
  {
   "cell_type": "markdown",
   "metadata": {},
   "source": [
    "# Training data"
   ]
  },
  {
   "cell_type": "code",
   "execution_count": 5,
   "metadata": {},
   "outputs": [],
   "source": [
    "df = pd.read_csv('CHEMBL26-molecules.csv', sep=';')\n",
    "df = df.dropna(subset=['Smiles', 'Molecule ChEMBL ID']).drop_duplicates(subset=['Molecule ChEMBL ID'])"
   ]
  },
  {
   "cell_type": "code",
   "execution_count": 6,
   "metadata": {},
   "outputs": [
    {
     "data": {
      "text/html": [
       "<div>\n",
       "<style scoped>\n",
       "    .dataframe tbody tr th:only-of-type {\n",
       "        vertical-align: middle;\n",
       "    }\n",
       "\n",
       "    .dataframe tbody tr th {\n",
       "        vertical-align: top;\n",
       "    }\n",
       "\n",
       "    .dataframe thead th {\n",
       "        text-align: right;\n",
       "    }\n",
       "</style>\n",
       "<table border=\"1\" class=\"dataframe\">\n",
       "  <thead>\n",
       "    <tr style=\"text-align: right;\">\n",
       "      <th></th>\n",
       "      <th>Molecule ChEMBL ID</th>\n",
       "      <th>Molecule Name</th>\n",
       "      <th>Molecule Max Phase</th>\n",
       "      <th>Molecular Weight</th>\n",
       "      <th>#RO5 Violations</th>\n",
       "      <th>AlogP</th>\n",
       "      <th>Compound Key</th>\n",
       "      <th>Smiles</th>\n",
       "      <th>Standard Type</th>\n",
       "      <th>Standard Relation</th>\n",
       "      <th>...</th>\n",
       "      <th>Target Name</th>\n",
       "      <th>Target Organism</th>\n",
       "      <th>Target Type</th>\n",
       "      <th>Document ChEMBL ID</th>\n",
       "      <th>Source ID</th>\n",
       "      <th>Source Description</th>\n",
       "      <th>Document Journal</th>\n",
       "      <th>Document Year</th>\n",
       "      <th>Cell ChEMBL ID</th>\n",
       "      <th>Properties</th>\n",
       "    </tr>\n",
       "  </thead>\n",
       "  <tbody>\n",
       "    <tr>\n",
       "      <th>0</th>\n",
       "      <td>CHEMBL1399166</td>\n",
       "      <td>NaN</td>\n",
       "      <td>0</td>\n",
       "      <td>382.17</td>\n",
       "      <td>0</td>\n",
       "      <td>1.60</td>\n",
       "      <td>SID24788739</td>\n",
       "      <td>Cc1c(Br)c([N+](=O)[O-])nn1CC(=O)Nc1ccc(C(N)=O)cc1</td>\n",
       "      <td>Potency</td>\n",
       "      <td>NaN</td>\n",
       "      <td>...</td>\n",
       "      <td>6-phospho-1-fructokinase</td>\n",
       "      <td>Trypanosoma brucei</td>\n",
       "      <td>SINGLE PROTEIN</td>\n",
       "      <td>CHEMBL1201862</td>\n",
       "      <td>7</td>\n",
       "      <td>PubChem BioAssays</td>\n",
       "      <td>NaN</td>\n",
       "      <td>NaN</td>\n",
       "      <td>None</td>\n",
       "      <td>NaN</td>\n",
       "    </tr>\n",
       "    <tr>\n",
       "      <th>1</th>\n",
       "      <td>CHEMBL1445913</td>\n",
       "      <td>NaN</td>\n",
       "      <td>0</td>\n",
       "      <td>244.09</td>\n",
       "      <td>0</td>\n",
       "      <td>0.85</td>\n",
       "      <td>SID26664850</td>\n",
       "      <td>NNC(=O)CNc1cccc(Br)c1</td>\n",
       "      <td>Potency</td>\n",
       "      <td>NaN</td>\n",
       "      <td>...</td>\n",
       "      <td>6-phospho-1-fructokinase</td>\n",
       "      <td>Trypanosoma brucei</td>\n",
       "      <td>SINGLE PROTEIN</td>\n",
       "      <td>CHEMBL1201862</td>\n",
       "      <td>7</td>\n",
       "      <td>PubChem BioAssays</td>\n",
       "      <td>NaN</td>\n",
       "      <td>NaN</td>\n",
       "      <td>None</td>\n",
       "      <td>NaN</td>\n",
       "    </tr>\n",
       "    <tr>\n",
       "      <th>2</th>\n",
       "      <td>CHEMBL1340503</td>\n",
       "      <td>NaN</td>\n",
       "      <td>0</td>\n",
       "      <td>260.15</td>\n",
       "      <td>0</td>\n",
       "      <td>3.46</td>\n",
       "      <td>SID17402158</td>\n",
       "      <td>Clc1cccc(NCc2nnsc2Cl)c1</td>\n",
       "      <td>Potency</td>\n",
       "      <td>NaN</td>\n",
       "      <td>...</td>\n",
       "      <td>6-phospho-1-fructokinase</td>\n",
       "      <td>Trypanosoma brucei</td>\n",
       "      <td>SINGLE PROTEIN</td>\n",
       "      <td>CHEMBL1201862</td>\n",
       "      <td>7</td>\n",
       "      <td>PubChem BioAssays</td>\n",
       "      <td>NaN</td>\n",
       "      <td>NaN</td>\n",
       "      <td>None</td>\n",
       "      <td>NaN</td>\n",
       "    </tr>\n",
       "    <tr>\n",
       "      <th>3</th>\n",
       "      <td>CHEMBL1401951</td>\n",
       "      <td>NaN</td>\n",
       "      <td>0</td>\n",
       "      <td>301.26</td>\n",
       "      <td>0</td>\n",
       "      <td>1.24</td>\n",
       "      <td>SID24822998</td>\n",
       "      <td>CN1C(=O)NC(=O)/C(=C\\C=C\\c2ccccc2[N+](=O)[O-])C1=O</td>\n",
       "      <td>Potency</td>\n",
       "      <td>NaN</td>\n",
       "      <td>...</td>\n",
       "      <td>6-phospho-1-fructokinase</td>\n",
       "      <td>Trypanosoma brucei</td>\n",
       "      <td>SINGLE PROTEIN</td>\n",
       "      <td>CHEMBL1201862</td>\n",
       "      <td>7</td>\n",
       "      <td>PubChem BioAssays</td>\n",
       "      <td>NaN</td>\n",
       "      <td>NaN</td>\n",
       "      <td>None</td>\n",
       "      <td>NaN</td>\n",
       "    </tr>\n",
       "    <tr>\n",
       "      <th>4</th>\n",
       "      <td>CHEMBL1413298</td>\n",
       "      <td>NaN</td>\n",
       "      <td>0</td>\n",
       "      <td>437.31</td>\n",
       "      <td>0</td>\n",
       "      <td>3.77</td>\n",
       "      <td>SID49680392</td>\n",
       "      <td>O=C(Cc1ccc(Cl)c(Cl)c1)Nc1ccc(S(=O)(=O)Nc2ncccn...</td>\n",
       "      <td>Potency</td>\n",
       "      <td>NaN</td>\n",
       "      <td>...</td>\n",
       "      <td>6-phospho-1-fructokinase</td>\n",
       "      <td>Trypanosoma brucei</td>\n",
       "      <td>SINGLE PROTEIN</td>\n",
       "      <td>CHEMBL1201862</td>\n",
       "      <td>7</td>\n",
       "      <td>PubChem BioAssays</td>\n",
       "      <td>NaN</td>\n",
       "      <td>NaN</td>\n",
       "      <td>None</td>\n",
       "      <td>NaN</td>\n",
       "    </tr>\n",
       "  </tbody>\n",
       "</table>\n",
       "<p>5 rows × 45 columns</p>\n",
       "</div>"
      ],
      "text/plain": [
       "  Molecule ChEMBL ID Molecule Name  Molecule Max Phase Molecular Weight  \\\n",
       "0      CHEMBL1399166           NaN                   0           382.17   \n",
       "1      CHEMBL1445913           NaN                   0           244.09   \n",
       "2      CHEMBL1340503           NaN                   0           260.15   \n",
       "3      CHEMBL1401951           NaN                   0           301.26   \n",
       "4      CHEMBL1413298           NaN                   0           437.31   \n",
       "\n",
       "  #RO5 Violations AlogP Compound Key  \\\n",
       "0               0  1.60  SID24788739   \n",
       "1               0  0.85  SID26664850   \n",
       "2               0  3.46  SID17402158   \n",
       "3               0  1.24  SID24822998   \n",
       "4               0  3.77  SID49680392   \n",
       "\n",
       "                                              Smiles Standard Type  \\\n",
       "0  Cc1c(Br)c([N+](=O)[O-])nn1CC(=O)Nc1ccc(C(N)=O)cc1       Potency   \n",
       "1                              NNC(=O)CNc1cccc(Br)c1       Potency   \n",
       "2                            Clc1cccc(NCc2nnsc2Cl)c1       Potency   \n",
       "3  CN1C(=O)NC(=O)/C(=C\\C=C\\c2ccccc2[N+](=O)[O-])C1=O       Potency   \n",
       "4  O=C(Cc1ccc(Cl)c(Cl)c1)Nc1ccc(S(=O)(=O)Nc2ncccn...       Potency   \n",
       "\n",
       "  Standard Relation  ...               Target Name     Target Organism  \\\n",
       "0               NaN  ...  6-phospho-1-fructokinase  Trypanosoma brucei   \n",
       "1               NaN  ...  6-phospho-1-fructokinase  Trypanosoma brucei   \n",
       "2               NaN  ...  6-phospho-1-fructokinase  Trypanosoma brucei   \n",
       "3               NaN  ...  6-phospho-1-fructokinase  Trypanosoma brucei   \n",
       "4               NaN  ...  6-phospho-1-fructokinase  Trypanosoma brucei   \n",
       "\n",
       "      Target Type Document ChEMBL ID Source ID Source Description  \\\n",
       "0  SINGLE PROTEIN      CHEMBL1201862         7  PubChem BioAssays   \n",
       "1  SINGLE PROTEIN      CHEMBL1201862         7  PubChem BioAssays   \n",
       "2  SINGLE PROTEIN      CHEMBL1201862         7  PubChem BioAssays   \n",
       "3  SINGLE PROTEIN      CHEMBL1201862         7  PubChem BioAssays   \n",
       "4  SINGLE PROTEIN      CHEMBL1201862         7  PubChem BioAssays   \n",
       "\n",
       "   Document Journal Document Year Cell ChEMBL ID Properties  \n",
       "0               NaN           NaN           None        NaN  \n",
       "1               NaN           NaN           None        NaN  \n",
       "2               NaN           NaN           None        NaN  \n",
       "3               NaN           NaN           None        NaN  \n",
       "4               NaN           NaN           None        NaN  \n",
       "\n",
       "[5 rows x 45 columns]"
      ]
     },
     "execution_count": 6,
     "metadata": {},
     "output_type": "execute_result"
    }
   ],
   "source": [
    "df.head()"
   ]
  },
  {
   "cell_type": "code",
   "execution_count": 7,
   "metadata": {},
   "outputs": [
    {
     "data": {
      "text/plain": [
       "(5901, 45)"
      ]
     },
     "execution_count": 7,
     "metadata": {},
     "output_type": "execute_result"
    }
   ],
   "source": [
    "df.shape"
   ]
  },
  {
   "cell_type": "markdown",
   "metadata": {},
   "source": [
    "# Other data"
   ]
  },
  {
   "cell_type": "code",
   "execution_count": 8,
   "metadata": {},
   "outputs": [
    {
     "name": "stdout",
     "output_type": "stream",
     "text": [
      "(4052, 6)\n"
     ]
    },
    {
     "data": {
      "text/html": [
       "<div>\n",
       "<style scoped>\n",
       "    .dataframe tbody tr th:only-of-type {\n",
       "        vertical-align: middle;\n",
       "    }\n",
       "\n",
       "    .dataframe tbody tr th {\n",
       "        vertical-align: top;\n",
       "    }\n",
       "\n",
       "    .dataframe thead th {\n",
       "        text-align: right;\n",
       "    }\n",
       "</style>\n",
       "<table border=\"1\" class=\"dataframe\">\n",
       "  <thead>\n",
       "    <tr style=\"text-align: right;\">\n",
       "      <th></th>\n",
       "      <th>SMILES</th>\n",
       "      <th>InChI</th>\n",
       "      <th>InChIKey</th>\n",
       "      <th>ID</th>\n",
       "      <th>INN</th>\n",
       "      <th>CAS_RN</th>\n",
       "    </tr>\n",
       "  </thead>\n",
       "  <tbody>\n",
       "    <tr>\n",
       "      <th>0</th>\n",
       "      <td>CCCCN1CCCC[C@H]1C(=O)NC1=C(C)C=CC=C1C</td>\n",
       "      <td>InChI=1S/C18H28N2O/c1-4-5-12-20-13-7-6-11-16(2...</td>\n",
       "      <td>LEBVLXFERQHONN-INIZCTEOSA-N</td>\n",
       "      <td>4</td>\n",
       "      <td>levobupivacaine</td>\n",
       "      <td>27262-47-1</td>\n",
       "    </tr>\n",
       "    <tr>\n",
       "      <th>1</th>\n",
       "      <td>COC(=O)C1=C(C)NC(C)=C([C@H]1C1=CC(=CC=C1)[N+](...</td>\n",
       "      <td>InChI=1S/C26H29N3O6/c1-17-22(25(30)34-4)24(20-...</td>\n",
       "      <td>ZBBHBTPTTSWHBA-DEOSSOPVSA-N</td>\n",
       "      <td>5</td>\n",
       "      <td>(S)-nicardipine</td>\n",
       "      <td>76093-36-2</td>\n",
       "    </tr>\n",
       "    <tr>\n",
       "      <th>2</th>\n",
       "      <td>CCOC(=O)C1=C(C)NC(C)=C([C@@H]1C1=CC(=CC=C1)[N+...</td>\n",
       "      <td>InChI=1S/C18H20N2O6/c1-5-26-18(22)15-11(3)19-1...</td>\n",
       "      <td>PVHUJELLJLJGLN-INIZCTEOSA-N</td>\n",
       "      <td>6</td>\n",
       "      <td>(S)-nitrendipine</td>\n",
       "      <td>80873-62-7</td>\n",
       "    </tr>\n",
       "    <tr>\n",
       "      <th>3</th>\n",
       "      <td>C[C@@H](CCC1=CC=C(O)C=C1)NCCC1=CC=C(O)C(O)=C1</td>\n",
       "      <td>InChI=1S/C18H23NO3/c1-13(2-3-14-4-7-16(20)8-5-...</td>\n",
       "      <td>JRWZLRBJNMZMFE-ZDUSSCGKSA-N</td>\n",
       "      <td>13</td>\n",
       "      <td>levdobutamine</td>\n",
       "      <td>61661-06-1</td>\n",
       "    </tr>\n",
       "    <tr>\n",
       "      <th>4</th>\n",
       "      <td>NC1=NC2=NC=C(CNC3=CC=C(C=C3)C(=O)N[C@@H](CCC(O...</td>\n",
       "      <td>InChI=1S/C19H20N8O5/c20-15-14-16(27-19(21)26-1...</td>\n",
       "      <td>TVZGACDUOSZQKY-LBPRGKRZSA-N</td>\n",
       "      <td>21</td>\n",
       "      <td>aminopterin</td>\n",
       "      <td>54-62-6</td>\n",
       "    </tr>\n",
       "  </tbody>\n",
       "</table>\n",
       "</div>"
      ],
      "text/plain": [
       "                                              SMILES  \\\n",
       "0              CCCCN1CCCC[C@H]1C(=O)NC1=C(C)C=CC=C1C   \n",
       "1  COC(=O)C1=C(C)NC(C)=C([C@H]1C1=CC(=CC=C1)[N+](...   \n",
       "2  CCOC(=O)C1=C(C)NC(C)=C([C@@H]1C1=CC(=CC=C1)[N+...   \n",
       "3      C[C@@H](CCC1=CC=C(O)C=C1)NCCC1=CC=C(O)C(O)=C1   \n",
       "4  NC1=NC2=NC=C(CNC3=CC=C(C=C3)C(=O)N[C@@H](CCC(O...   \n",
       "\n",
       "                                               InChI  \\\n",
       "0  InChI=1S/C18H28N2O/c1-4-5-12-20-13-7-6-11-16(2...   \n",
       "1  InChI=1S/C26H29N3O6/c1-17-22(25(30)34-4)24(20-...   \n",
       "2  InChI=1S/C18H20N2O6/c1-5-26-18(22)15-11(3)19-1...   \n",
       "3  InChI=1S/C18H23NO3/c1-13(2-3-14-4-7-16(20)8-5-...   \n",
       "4  InChI=1S/C19H20N8O5/c20-15-14-16(27-19(21)26-1...   \n",
       "\n",
       "                      InChIKey  ID               INN      CAS_RN  \n",
       "0  LEBVLXFERQHONN-INIZCTEOSA-N   4   levobupivacaine  27262-47-1  \n",
       "1  ZBBHBTPTTSWHBA-DEOSSOPVSA-N   5   (S)-nicardipine  76093-36-2  \n",
       "2  PVHUJELLJLJGLN-INIZCTEOSA-N   6  (S)-nitrendipine  80873-62-7  \n",
       "3  JRWZLRBJNMZMFE-ZDUSSCGKSA-N  13     levdobutamine  61661-06-1  \n",
       "4  TVZGACDUOSZQKY-LBPRGKRZSA-N  21       aminopterin     54-62-6  "
      ]
     },
     "execution_count": 8,
     "metadata": {},
     "output_type": "execute_result"
    }
   ],
   "source": [
    "drug_Central = pd.read_csv('drugCentral.csv').drop(columns=['Unnamed: 0'])\n",
    "print(drug_Central.shape)\n",
    "drug_Central.head()"
   ]
  },
  {
   "cell_type": "code",
   "execution_count": 9,
   "metadata": {},
   "outputs": [
    {
     "name": "stdout",
     "output_type": "stream",
     "text": [
      "(5903, 2)\n"
     ]
    },
    {
     "data": {
      "text/html": [
       "<div>\n",
       "<style scoped>\n",
       "    .dataframe tbody tr th:only-of-type {\n",
       "        vertical-align: middle;\n",
       "    }\n",
       "\n",
       "    .dataframe tbody tr th {\n",
       "        vertical-align: top;\n",
       "    }\n",
       "\n",
       "    .dataframe thead th {\n",
       "        text-align: right;\n",
       "    }\n",
       "</style>\n",
       "<table border=\"1\" class=\"dataframe\">\n",
       "  <thead>\n",
       "    <tr style=\"text-align: right;\">\n",
       "      <th></th>\n",
       "      <th>zinc_id</th>\n",
       "      <th>Smiles</th>\n",
       "    </tr>\n",
       "  </thead>\n",
       "  <tbody>\n",
       "    <tr>\n",
       "      <th>0</th>\n",
       "      <td>ZINC000001532673</td>\n",
       "      <td>N[C@@H](CSSC[C@H](N)C(=O)O)C(=O)O</td>\n",
       "    </tr>\n",
       "    <tr>\n",
       "      <th>1</th>\n",
       "      <td>ZINC000001408068</td>\n",
       "      <td>O=C(O)c1cc(O)nc(O)n1</td>\n",
       "    </tr>\n",
       "    <tr>\n",
       "      <th>2</th>\n",
       "      <td>ZINC000001532582</td>\n",
       "      <td>NC(=O)CCCC[C@H]1CCSS1</td>\n",
       "    </tr>\n",
       "    <tr>\n",
       "      <th>3</th>\n",
       "      <td>ZINC000003830381</td>\n",
       "      <td>CCCCC[C@](C)(O)/C=C/[C@H]1[C@H](O)C[C@H](O)[C@...</td>\n",
       "    </tr>\n",
       "    <tr>\n",
       "      <th>4</th>\n",
       "      <td>ZINC000003830394</td>\n",
       "      <td>Cn1nnnc1SCC1=C(C(=O)O)N2C(=O)[C@@H](NC(=O)[C@H...</td>\n",
       "    </tr>\n",
       "    <tr>\n",
       "      <th>...</th>\n",
       "      <td>...</td>\n",
       "      <td>...</td>\n",
       "    </tr>\n",
       "    <tr>\n",
       "      <th>5898</th>\n",
       "      <td>ZINC000101144764</td>\n",
       "      <td>C[N+]1(C)[C@@H]2C[C@H](OC(=O)C(O)(c3cccs3)c3cc...</td>\n",
       "    </tr>\n",
       "    <tr>\n",
       "      <th>5899</th>\n",
       "      <td>ZINC000118913164</td>\n",
       "      <td>C#C[C@]1(O)CC[C@H]2[C@@H]3CCC4=C(CCC(=O)C4)[C@...</td>\n",
       "    </tr>\n",
       "    <tr>\n",
       "      <th>5900</th>\n",
       "      <td>ZINC000085537078</td>\n",
       "      <td>CC[C@]12C=CCN3CC[C@@]4(c5cc([C@@]6(C(=O)OC)C[C...</td>\n",
       "    </tr>\n",
       "    <tr>\n",
       "      <th>5901</th>\n",
       "      <td>ZINC000085537089</td>\n",
       "      <td>CCCN(CCC)C(=O)[C@@H](CCC(=O)OCCCN1CCN(CCOC(=O)...</td>\n",
       "    </tr>\n",
       "    <tr>\n",
       "      <th>5902</th>\n",
       "      <td>ZINC000085537091</td>\n",
       "      <td>CCCN(CCC)C(=O)[C@H](CCC(=O)OCCCN1CCN(CCOC(=O)C...</td>\n",
       "    </tr>\n",
       "  </tbody>\n",
       "</table>\n",
       "<p>5903 rows × 2 columns</p>\n",
       "</div>"
      ],
      "text/plain": [
       "               zinc_id                                             Smiles\n",
       "0     ZINC000001532673                  N[C@@H](CSSC[C@H](N)C(=O)O)C(=O)O\n",
       "1     ZINC000001408068                               O=C(O)c1cc(O)nc(O)n1\n",
       "2     ZINC000001532582                              NC(=O)CCCC[C@H]1CCSS1\n",
       "3     ZINC000003830381  CCCCC[C@](C)(O)/C=C/[C@H]1[C@H](O)C[C@H](O)[C@...\n",
       "4     ZINC000003830394  Cn1nnnc1SCC1=C(C(=O)O)N2C(=O)[C@@H](NC(=O)[C@H...\n",
       "...                ...                                                ...\n",
       "5898  ZINC000101144764  C[N+]1(C)[C@@H]2C[C@H](OC(=O)C(O)(c3cccs3)c3cc...\n",
       "5899  ZINC000118913164  C#C[C@]1(O)CC[C@H]2[C@@H]3CCC4=C(CCC(=O)C4)[C@...\n",
       "5900  ZINC000085537078  CC[C@]12C=CCN3CC[C@@]4(c5cc([C@@]6(C(=O)OC)C[C...\n",
       "5901  ZINC000085537089  CCCN(CCC)C(=O)[C@@H](CCC(=O)OCCCN1CCN(CCOC(=O)...\n",
       "5902  ZINC000085537091  CCCN(CCC)C(=O)[C@H](CCC(=O)OCCCN1CCN(CCOC(=O)C...\n",
       "\n",
       "[5903 rows x 2 columns]"
      ]
     },
     "execution_count": 9,
     "metadata": {},
     "output_type": "execute_result"
    }
   ],
   "source": [
    "world = pd.read_csv('world.csv')\n",
    "world.columns = ['zinc_id', 'Smiles']\n",
    "print(world.shape)\n",
    "world"
   ]
  },
  {
   "cell_type": "code",
   "execution_count": 10,
   "metadata": {},
   "outputs": [
    {
     "name": "stdout",
     "output_type": "stream",
     "text": [
      "(81519, 2)\n"
     ]
    },
    {
     "data": {
      "text/html": [
       "<div>\n",
       "<style scoped>\n",
       "    .dataframe tbody tr th:only-of-type {\n",
       "        vertical-align: middle;\n",
       "    }\n",
       "\n",
       "    .dataframe tbody tr th {\n",
       "        vertical-align: top;\n",
       "    }\n",
       "\n",
       "    .dataframe thead th {\n",
       "        text-align: right;\n",
       "    }\n",
       "</style>\n",
       "<table border=\"1\" class=\"dataframe\">\n",
       "  <thead>\n",
       "    <tr style=\"text-align: right;\">\n",
       "      <th></th>\n",
       "      <th>zinc_id</th>\n",
       "      <th>Smiles</th>\n",
       "    </tr>\n",
       "  </thead>\n",
       "  <tbody>\n",
       "    <tr>\n",
       "      <th>0</th>\n",
       "      <td>ZINC000000119675</td>\n",
       "      <td>COc1cc(CCN)ccc1O</td>\n",
       "    </tr>\n",
       "    <tr>\n",
       "      <th>1</th>\n",
       "      <td>ZINC000000120430</td>\n",
       "      <td>COc1cccc(C(=O)O)c1</td>\n",
       "    </tr>\n",
       "    <tr>\n",
       "      <th>2</th>\n",
       "      <td>ZINC000003171672</td>\n",
       "      <td>CC1(C)C[C@H]2C(=O)CC[C@@H]3O[C@]3(C)CC[C@@H]21</td>\n",
       "    </tr>\n",
       "    <tr>\n",
       "      <th>3</th>\n",
       "      <td>ZINC000001572037</td>\n",
       "      <td>CC(C)[C@@H](NC(=O)[C@H](N)CCCCN)C(=O)O</td>\n",
       "    </tr>\n",
       "    <tr>\n",
       "      <th>4</th>\n",
       "      <td>ZINC000000895535</td>\n",
       "      <td>O=C(O)[C@H](O)Cc1ccc(O)c(O)c1</td>\n",
       "    </tr>\n",
       "    <tr>\n",
       "      <th>...</th>\n",
       "      <td>...</td>\n",
       "      <td>...</td>\n",
       "    </tr>\n",
       "    <tr>\n",
       "      <th>81514</th>\n",
       "      <td>ZINC000003869580</td>\n",
       "      <td>CN1C(=O)[C@@H](O)C[C@H]1c1cccnc1</td>\n",
       "    </tr>\n",
       "    <tr>\n",
       "      <th>81515</th>\n",
       "      <td>ZINC000004096817</td>\n",
       "      <td>C[C@]12CC[C@@H]3c4ccc(O[C@@H]5O[C@H](C(=O)O)[C...</td>\n",
       "    </tr>\n",
       "    <tr>\n",
       "      <th>81516</th>\n",
       "      <td>ZINC000021981408</td>\n",
       "      <td>CNC[C@@H](c1ccc(OC)cc1)C1(O)CCCCC1</td>\n",
       "    </tr>\n",
       "    <tr>\n",
       "      <th>81517</th>\n",
       "      <td>ZINC000022055143</td>\n",
       "      <td>CN1C(=O)CC[C@H]1c1ccc[n+]([C@H]2O[C@H](C(=O)O)...</td>\n",
       "    </tr>\n",
       "    <tr>\n",
       "      <th>81518</th>\n",
       "      <td>ZINC000028361975</td>\n",
       "      <td>O=C1CC[C@H](N2C(=O)c3ccc(O)cc3C2=O)C(=O)N1</td>\n",
       "    </tr>\n",
       "  </tbody>\n",
       "</table>\n",
       "<p>81519 rows × 2 columns</p>\n",
       "</div>"
      ],
      "text/plain": [
       "                zinc_id                                             Smiles\n",
       "0      ZINC000000119675                                   COc1cc(CCN)ccc1O\n",
       "1      ZINC000000120430                                 COc1cccc(C(=O)O)c1\n",
       "2      ZINC000003171672     CC1(C)C[C@H]2C(=O)CC[C@@H]3O[C@]3(C)CC[C@@H]21\n",
       "3      ZINC000001572037             CC(C)[C@@H](NC(=O)[C@H](N)CCCCN)C(=O)O\n",
       "4      ZINC000000895535                      O=C(O)[C@H](O)Cc1ccc(O)c(O)c1\n",
       "...                 ...                                                ...\n",
       "81514  ZINC000003869580                   CN1C(=O)[C@@H](O)C[C@H]1c1cccnc1\n",
       "81515  ZINC000004096817  C[C@]12CC[C@@H]3c4ccc(O[C@@H]5O[C@H](C(=O)O)[C...\n",
       "81516  ZINC000021981408                 CNC[C@@H](c1ccc(OC)cc1)C1(O)CCCCC1\n",
       "81517  ZINC000022055143  CN1C(=O)CC[C@H]1c1ccc[n+]([C@H]2O[C@H](C(=O)O)...\n",
       "81518  ZINC000028361975         O=C1CC[C@H](N2C(=O)c3ccc(O)cc3C2=O)C(=O)N1\n",
       "\n",
       "[81519 rows x 2 columns]"
      ]
     },
     "execution_count": 10,
     "metadata": {},
     "output_type": "execute_result"
    }
   ],
   "source": [
    "endo = pd.read_csv('endogenous.csv')\n",
    "endo.columns = ['zinc_id', 'Smiles']\n",
    "print(endo.shape)\n",
    "endo"
   ]
  },
  {
   "cell_type": "code",
   "execution_count": 11,
   "metadata": {},
   "outputs": [],
   "source": [
    "all_data = pd.concat([drug_Central['SMILES'], world['Smiles'], endo['Smiles']]).reset_index()\n",
    "all_data.columns = ['old_index','Smiles']"
   ]
  },
  {
   "cell_type": "code",
   "execution_count": 12,
   "metadata": {},
   "outputs": [
    {
     "data": {
      "text/html": [
       "<div>\n",
       "<style scoped>\n",
       "    .dataframe tbody tr th:only-of-type {\n",
       "        vertical-align: middle;\n",
       "    }\n",
       "\n",
       "    .dataframe tbody tr th {\n",
       "        vertical-align: top;\n",
       "    }\n",
       "\n",
       "    .dataframe thead th {\n",
       "        text-align: right;\n",
       "    }\n",
       "</style>\n",
       "<table border=\"1\" class=\"dataframe\">\n",
       "  <thead>\n",
       "    <tr style=\"text-align: right;\">\n",
       "      <th></th>\n",
       "      <th>old_index</th>\n",
       "      <th>Smiles</th>\n",
       "    </tr>\n",
       "  </thead>\n",
       "  <tbody>\n",
       "    <tr>\n",
       "      <th>0</th>\n",
       "      <td>0</td>\n",
       "      <td>CCCCN1CCCC[C@H]1C(=O)NC1=C(C)C=CC=C1C</td>\n",
       "    </tr>\n",
       "    <tr>\n",
       "      <th>1</th>\n",
       "      <td>1</td>\n",
       "      <td>COC(=O)C1=C(C)NC(C)=C([C@H]1C1=CC(=CC=C1)[N+](...</td>\n",
       "    </tr>\n",
       "    <tr>\n",
       "      <th>2</th>\n",
       "      <td>2</td>\n",
       "      <td>CCOC(=O)C1=C(C)NC(C)=C([C@@H]1C1=CC(=CC=C1)[N+...</td>\n",
       "    </tr>\n",
       "    <tr>\n",
       "      <th>3</th>\n",
       "      <td>3</td>\n",
       "      <td>C[C@@H](CCC1=CC=C(O)C=C1)NCCC1=CC=C(O)C(O)=C1</td>\n",
       "    </tr>\n",
       "    <tr>\n",
       "      <th>4</th>\n",
       "      <td>4</td>\n",
       "      <td>NC1=NC2=NC=C(CNC3=CC=C(C=C3)C(=O)N[C@@H](CCC(O...</td>\n",
       "    </tr>\n",
       "    <tr>\n",
       "      <th>...</th>\n",
       "      <td>...</td>\n",
       "      <td>...</td>\n",
       "    </tr>\n",
       "    <tr>\n",
       "      <th>91469</th>\n",
       "      <td>81514</td>\n",
       "      <td>CN1C(=O)[C@@H](O)C[C@H]1c1cccnc1</td>\n",
       "    </tr>\n",
       "    <tr>\n",
       "      <th>91470</th>\n",
       "      <td>81515</td>\n",
       "      <td>C[C@]12CC[C@@H]3c4ccc(O[C@@H]5O[C@H](C(=O)O)[C...</td>\n",
       "    </tr>\n",
       "    <tr>\n",
       "      <th>91471</th>\n",
       "      <td>81516</td>\n",
       "      <td>CNC[C@@H](c1ccc(OC)cc1)C1(O)CCCCC1</td>\n",
       "    </tr>\n",
       "    <tr>\n",
       "      <th>91472</th>\n",
       "      <td>81517</td>\n",
       "      <td>CN1C(=O)CC[C@H]1c1ccc[n+]([C@H]2O[C@H](C(=O)O)...</td>\n",
       "    </tr>\n",
       "    <tr>\n",
       "      <th>91473</th>\n",
       "      <td>81518</td>\n",
       "      <td>O=C1CC[C@H](N2C(=O)c3ccc(O)cc3C2=O)C(=O)N1</td>\n",
       "    </tr>\n",
       "  </tbody>\n",
       "</table>\n",
       "<p>91474 rows × 2 columns</p>\n",
       "</div>"
      ],
      "text/plain": [
       "       old_index                                             Smiles\n",
       "0              0              CCCCN1CCCC[C@H]1C(=O)NC1=C(C)C=CC=C1C\n",
       "1              1  COC(=O)C1=C(C)NC(C)=C([C@H]1C1=CC(=CC=C1)[N+](...\n",
       "2              2  CCOC(=O)C1=C(C)NC(C)=C([C@@H]1C1=CC(=CC=C1)[N+...\n",
       "3              3      C[C@@H](CCC1=CC=C(O)C=C1)NCCC1=CC=C(O)C(O)=C1\n",
       "4              4  NC1=NC2=NC=C(CNC3=CC=C(C=C3)C(=O)N[C@@H](CCC(O...\n",
       "...          ...                                                ...\n",
       "91469      81514                   CN1C(=O)[C@@H](O)C[C@H]1c1cccnc1\n",
       "91470      81515  C[C@]12CC[C@@H]3c4ccc(O[C@@H]5O[C@H](C(=O)O)[C...\n",
       "91471      81516                 CNC[C@@H](c1ccc(OC)cc1)C1(O)CCCCC1\n",
       "91472      81517  CN1C(=O)CC[C@H]1c1ccc[n+]([C@H]2O[C@H](C(=O)O)...\n",
       "91473      81518         O=C1CC[C@H](N2C(=O)c3ccc(O)cc3C2=O)C(=O)N1\n",
       "\n",
       "[91474 rows x 2 columns]"
      ]
     },
     "execution_count": 12,
     "metadata": {},
     "output_type": "execute_result"
    }
   ],
   "source": [
    "all_data"
   ]
  },
  {
   "cell_type": "code",
   "execution_count": 13,
   "metadata": {},
   "outputs": [
    {
     "data": {
      "text/plain": [
       "Molecule ChEMBL ID                                                CHEMBL1399166\n",
       "Molecule Name                                                               NaN\n",
       "Molecule Max Phase                                                            0\n",
       "Molecular Weight                                                         382.17\n",
       "#RO5 Violations                                                               0\n",
       "AlogP                                                                      1.60\n",
       "Compound Key                                                        SID24788739\n",
       "Smiles                        Cc1c(Br)c([N+](=O)[O-])nn1CC(=O)Nc1ccc(C(N)=O)cc1\n",
       "Standard Type                                                           Potency\n",
       "Standard Relation                                                           NaN\n",
       "Standard Value                                                          13459.1\n",
       "Standard Units                                                               nM\n",
       "pChEMBL Value                                                               NaN\n",
       "Data Validity Comment                                                       NaN\n",
       "Comment                                                                  Active\n",
       "Uo Units                                                             UO_0000065\n",
       "Ligand Efficiency BEI                                                       NaN\n",
       "Ligand Efficiency LE                                                        NaN\n",
       "Ligand Efficiency LLE                                                       NaN\n",
       "Ligand Efficiency SEI                                                       NaN\n",
       "Potential Duplicate                                                       False\n",
       "Assay ChEMBL ID                                                   CHEMBL1738593\n",
       "Assay Description             PUBCHEM_BIOASSAY: Tb PFK orthogonal confirmato...\n",
       "Assay Type                                                                    F\n",
       "BAO Format ID                                                       BAO_0000019\n",
       "BAO Label                                                          assay format\n",
       "Assay Organism                                       Trypanosoma brucei TREU927\n",
       "Assay Tissue ChEMBL ID                                                     None\n",
       "Assay Tissue Name                                                          None\n",
       "Assay Cell Type                                                            None\n",
       "Assay Subcellular Fraction                                                 None\n",
       "Assay Parameters                                                            NaN\n",
       "Assay Variant Accession                                                     NaN\n",
       "Assay Variant Mutation                                                      NaN\n",
       "Target ChEMBL ID                                                     CHEMBL5686\n",
       "Target Name                                            6-phospho-1-fructokinase\n",
       "Target Organism                                              Trypanosoma brucei\n",
       "Target Type                                                      SINGLE PROTEIN\n",
       "Document ChEMBL ID                                                CHEMBL1201862\n",
       "Source ID                                                                     7\n",
       "Source Description                                            PubChem BioAssays\n",
       "Document Journal                                                            NaN\n",
       "Document Year                                                               NaN\n",
       "Cell ChEMBL ID                                                             None\n",
       "Properties                                                                  NaN\n",
       "Name: 0, dtype: object"
      ]
     },
     "execution_count": 13,
     "metadata": {},
     "output_type": "execute_result"
    }
   ],
   "source": [
    "df.iloc[0]"
   ]
  },
  {
   "cell_type": "code",
   "execution_count": 14,
   "metadata": {},
   "outputs": [],
   "source": [
    "# input = dataframe with 'Smiles' column\n",
    "def add_descriptors(df): \n",
    "    \n",
    "    df['mol'] = df['Smiles'].apply(Chem.MolFromSmiles)\n",
    "    df['MolLogP'] = df['mol'].apply(Descriptors.MolLogP)\n",
    "    df['AMW'] = df['mol'].apply(Descriptors.MolWt)\n",
    "    df['NumRotatableBonds'] = df['mol'].apply(Descriptors.NumRotatableBonds)\n",
    "    df['fp']=df['mol'].apply(AllChem.GetMorganFingerprintAsBitVect, args=(2, 2048))\n",
    "    \n",
    "    df = df.dropna(subset=['mol'])\n",
    "    df['HeavyAtomCount'] = df['mol'].apply(Descriptors.HeavyAtomCount)\n",
    "    df['HAccept'] = df['mol'].apply(Descriptors.NumHAcceptors)\n",
    "    df['HDonor'] = df['mol'].apply(Descriptors.NumHDonors)\n",
    "    df['Heteroatoms'] = df['mol'].apply(Descriptors.NumHeteroatoms)\n",
    "    df['RingCount'] = df['mol'].apply(Descriptors.RingCount)\n",
    "    df['SaturatedRings'] = df['mol'].apply(Descriptors.NumSaturatedRings)\n",
    "    df['AliphaticRings'] = df['mol'].apply(Descriptors.NumAliphaticRings)\n",
    "    df['AromaticRings'] = df['mol'].apply(Descriptors.NumAromaticRings)\n",
    "    df['Ipc'] = df['mol'].apply(Descriptors.Ipc)\n",
    "    df['HallKierAlpha'] = df['mol'].apply(Descriptors.HallKierAlpha)\n",
    "    df['NumValenceElectrons'] = df['mol'].apply(Descriptors.NumValenceElectrons)\n",
    "    \n",
    "    df[\"ECFP6\"] = df['mol'].apply(AllChem.GetMorganFingerprintAsBitVect, args=(3, 2048))\n",
    "    df[\"RDKFP\"] = df['mol'].apply(AllChem.RDKFingerprint, fpSize=2048)\n",
    "    \n",
    "    return(df)"
   ]
  },
  {
   "cell_type": "code",
   "execution_count": 15,
   "metadata": {},
   "outputs": [],
   "source": [
    "features1 = ['MolLogP', 'AMW', 'NumRotatableBonds', 'HeavyAtomCount',\n",
    "       'HAccept', 'HDonor', 'Heteroatoms', 'RingCount', 'SaturatedRings',\n",
    "       'AliphaticRings', 'AromaticRings', 'Ipc', 'HallKierAlpha',\n",
    "       'NumValenceElectrons']\n",
    "\n",
    "features2 = ['MolLogP', 'AMW', 'NumRotatableBonds', 'HeavyAtomCount',\n",
    "       'HAccept', 'HDonor', 'Heteroatoms', 'RingCount', 'SaturatedRings',\n",
    "       'AliphaticRings', 'AromaticRings', 'Ipc', 'HallKierAlpha',\n",
    "       'NumValenceElectrons','ECFP6','RDKFP']"
   ]
  },
  {
   "cell_type": "code",
   "execution_count": 16,
   "metadata": {},
   "outputs": [],
   "source": [
    "df = add_descriptors(df)"
   ]
  },
  {
   "cell_type": "code",
   "execution_count": 17,
   "metadata": {},
   "outputs": [],
   "source": [
    "df['logValue'] = np.log(df['Standard Value'])"
   ]
  },
  {
   "cell_type": "code",
   "execution_count": 18,
   "metadata": {},
   "outputs": [
    {
     "name": "stderr",
     "output_type": "stream",
     "text": [
      "/Users/bres4224/anaconda3/envs/my-rdkit-env/lib/python3.9/site-packages/seaborn/distributions.py:2557: FutureWarning: `distplot` is a deprecated function and will be removed in a future version. Please adapt your code to use either `displot` (a figure-level function with similar flexibility) or `histplot` (an axes-level function for histograms).\n",
      "  warnings.warn(msg, FutureWarning)\n"
     ]
    },
    {
     "data": {
      "text/plain": [
       "<AxesSubplot:xlabel='logValue', ylabel='Density'>"
      ]
     },
     "execution_count": 18,
     "metadata": {},
     "output_type": "execute_result"
    },
    {
     "data": {
      "image/png": "[encoded data removed]",
      "text/plain": [
       "<Figure size 432x288 with 1 Axes>"
      ]
     },
     "metadata": {
      "needs_background": "light"
     },
     "output_type": "display_data"
    }
   ],
   "source": [
    "sns.distplot(df['logValue'])"
   ]
  },
  {
   "cell_type": "code",
   "execution_count": 27,
   "metadata": {},
   "outputs": [
    {
     "name": "stderr",
     "output_type": "stream",
     "text": [
      "RDKit WARNING: [08:49:34] Conflicting single bond directions around double bond at index 1.\n",
      "RDKit WARNING: [08:49:34]   BondStereo set to STEREONONE and single bond directions set to NONE.\n",
      "RDKit WARNING: [08:49:35] Conflicting single bond directions around double bond at index 1.\n",
      "RDKit WARNING: [08:49:35]   BondStereo set to STEREONONE and single bond directions set to NONE.\n"
     ]
    }
   ],
   "source": [
    "all_data = add_descriptors(all_data)"
   ]
  },
  {
   "cell_type": "code",
   "execution_count": 28,
   "metadata": {},
   "outputs": [],
   "source": [
    "from sklearn.model_selection import train_test_split, StratifiedKFold, GridSearchCV\n",
    "from sklearn.metrics import r2_score, mean_squared_error, mean_absolute_error\n",
    "from sklearn.ensemble import RandomForestRegressor\n",
    "from sklearn.neural_network import MLPRegressor\n",
    "from sklearn.svm import SVR"
   ]
  },
  {
   "cell_type": "code",
   "execution_count": 29,
   "metadata": {},
   "outputs": [
    {
     "data": {
      "text/plain": [
       "rf_train        0.849127\n",
       "rf_test        -0.032369\n",
       "rf_rmse_test    1.527600\n",
       "dtype: float64"
      ]
     },
     "execution_count": 29,
     "metadata": {},
     "output_type": "execute_result"
    }
   ],
   "source": [
    "df = df.loc[(df['Standard Type'] == 'Potency') & (df['Standard Units'] == 'nM')].dropna(subset=['Standard Value'])\n",
    "df['logValue'] = 1 * np.log(df['Standard Value'])\n",
    "X = df[features1]\n",
    "y = df['logValue']\n",
    "\n",
    "X_train, X_test, y_train, y_test = train_test_split(X, y, test_size=0.2, random_state=1337)\n",
    "\n",
    "# Default models\n",
    "models = {\"rf\": RandomForestRegressor(n_estimators=100, random_state=42)}\n",
    "\n",
    "scores = {}\n",
    "for m in models:\n",
    "    models[m].fit(X_train, y_train)\n",
    "    scores[m + \"_train\"] = models[m].score(X_train, y_train, )\n",
    "    y_pred = models[m].predict(X_test)\n",
    "    scores[m + \"_test\"] = r2_score(y_test, y_pred)\n",
    "    scores[m + \"_rmse_test\"] = np.sqrt(mean_squared_error(y_test, y_pred))\n",
    "    \n",
    "\n",
    "scores = pd.Series(scores).T\n",
    "scores"
   ]
  },
  {
   "cell_type": "code",
   "execution_count": 30,
   "metadata": {},
   "outputs": [],
   "source": [
    "df = df.loc[(df['Standard Type'] == 'Potency') & (df['Standard Units'] == 'nM')].dropna(subset=['Standard Value'])\n",
    "df['logValue'] = 1 * np.log(df['Standard Value'])\n",
    "X = df[features1]\n",
    "y = df['logValue']\n",
    "\n",
    "scaler = StandardScaler()\n",
    "#X = scaler.fit_transform(X)\n",
    "\n",
    "X_train, X_test, y_train, y_test = train_test_split(X, y, test_size=0.2, random_state=1337)"
   ]
  },
  {
   "cell_type": "code",
   "execution_count": 31,
   "metadata": {},
   "outputs": [
    {
     "data": {
      "text/plain": [
       "rf_train        0.849127\n",
       "rf_test        -0.032369\n",
       "rf_rmse_test    1.527600\n",
       "dtype: float64"
      ]
     },
     "execution_count": 31,
     "metadata": {},
     "output_type": "execute_result"
    }
   ],
   "source": [
    "# Default models\n",
    "models = {\"rf\": RandomForestRegressor(n_estimators=100, random_state=42)}\n",
    "\n",
    "scores = {}\n",
    "for m in models:\n",
    "    models[m].fit(X_train, y_train)\n",
    "    scores[m + \"_train\"] = models[m].score(X_train, y_train, )\n",
    "    y_pred = models[m].predict(X_test)\n",
    "    scores[m + \"_test\"] = r2_score(y_test, y_pred)\n",
    "    scores[m + \"_rmse_test\"] = np.sqrt(mean_squared_error(y_test, y_pred))\n",
    "    \n",
    "\n",
    "scores = pd.Series(scores).T\n",
    "scores"
   ]
  },
  {
   "cell_type": "code",
   "execution_count": 32,
   "metadata": {},
   "outputs": [
    {
     "name": "stdout",
     "output_type": "stream",
     "text": [
      "Working on  fp ...\n"
     ]
    },
    {
     "name": "stderr",
     "output_type": "stream",
     "text": [
      "/Users/bres4224/anaconda3/envs/my-rdkit-env/lib/python3.9/site-packages/sklearn/neural_network/_multilayer_perceptron.py:614: ConvergenceWarning: Stochastic Optimizer: Maximum iterations (200) reached and the optimization hasn't converged yet.\n",
      "  warnings.warn(\n"
     ]
    },
    {
     "name": "stdout",
     "output_type": "stream",
     "text": [
      "Working on  ECFP6 ...\n"
     ]
    },
    {
     "name": "stderr",
     "output_type": "stream",
     "text": [
      "/Users/bres4224/anaconda3/envs/my-rdkit-env/lib/python3.9/site-packages/sklearn/neural_network/_multilayer_perceptron.py:614: ConvergenceWarning: Stochastic Optimizer: Maximum iterations (200) reached and the optimization hasn't converged yet.\n",
      "  warnings.warn(\n"
     ]
    },
    {
     "name": "stdout",
     "output_type": "stream",
     "text": [
      "Working on  RDKFP ...\n"
     ]
    },
    {
     "name": "stderr",
     "output_type": "stream",
     "text": [
      "/Users/bres4224/anaconda3/envs/my-rdkit-env/lib/python3.9/site-packages/sklearn/neural_network/_multilayer_perceptron.py:614: ConvergenceWarning: Stochastic Optimizer: Maximum iterations (200) reached and the optimization hasn't converged yet.\n",
      "  warnings.warn(\n"
     ]
    }
   ],
   "source": [
    "# It takes some time, so for the sake of demonstration I will subsample the dataset\n",
    "df = df.sample(frac=0.4)\n",
    "y = -1*df['logValue']\n",
    "\n",
    "models = {\"rf\": RandomForestRegressor(n_estimators=100, random_state=1337),\n",
    "          \"nnet\": MLPRegressor(random_state=1337),\n",
    "          \"svr\": SVR(gamma='auto')}\n",
    "scores = {}\n",
    "\n",
    "for f in ['fp', 'ECFP6', 'RDKFP']:\n",
    "    print('Working on ', f, '...')\n",
    "    scores[f] = {}\n",
    "    # Convert fps to 2D numpy array\n",
    "    X = np.array(df[f].tolist())\n",
    "    X_train, X_test, y_train, y_test = train_test_split(X, y, test_size=0.33, random_state=42)\n",
    "    for k, m in enumerate(models):\n",
    "        models[m].fit(X_train, y_train)\n",
    "        y_pred = models[m].predict(X_test)\n",
    "        #preds = models[m].predict(all_data[f].tolist())\n",
    "        scores[f][m + \"_r2_test\"] = r2_score(y_test, y_pred)\n",
    "        scores[f][m + \"_rmse_test\"] = np.sqrt(mean_squared_error(y_test, y_pred))"
   ]
  },
  {
   "cell_type": "code",
   "execution_count": 33,
   "metadata": {},
   "outputs": [
    {
     "data": {
      "text/plain": [
       "{'fp': {'rf_r2_test': -0.09486513380110395,\n",
       "  'rf_rmse_test': 1.509962844293998,\n",
       "  'nnet_r2_test': -1.8980900149548878,\n",
       "  'nnet_rmse_test': 2.4566420600782046,\n",
       "  'svr_r2_test': -0.20444644241183751,\n",
       "  'svr_rmse_test': 1.5837247157791943},\n",
       " 'ECFP6': {'rf_r2_test': -0.05542877562669424,\n",
       "  'rf_rmse_test': 1.4825194957179917,\n",
       "  'nnet_r2_test': -2.73732111354368,\n",
       "  'nnet_rmse_test': 2.78975558061453,\n",
       "  'svr_r2_test': -0.21140462746567645,\n",
       "  'svr_rmse_test': 1.5882927810019365},\n",
       " 'RDKFP': {'rf_r2_test': -0.044135242884131065,\n",
       "  'rf_rmse_test': 1.4745663713224786,\n",
       "  'nnet_r2_test': -1.2149367668921878,\n",
       "  'nnet_rmse_test': 2.147665367782273,\n",
       "  'svr_r2_test': -0.15522750576166655,\n",
       "  'svr_rmse_test': 1.5510282508393252}}"
      ]
     },
     "execution_count": 33,
     "metadata": {},
     "output_type": "execute_result"
    }
   ],
   "source": [
    "scores"
   ]
  },
  {
   "cell_type": "code",
   "execution_count": null,
   "metadata": {},
   "outputs": [],
   "source": []
  },
  {
   "cell_type": "code",
   "execution_count": null,
   "metadata": {},
   "outputs": [],
   "source": []
  },
  {
   "cell_type": "code",
   "execution_count": null,
   "metadata": {},
   "outputs": [],
   "source": []
  },
  {
   "cell_type": "markdown",
   "metadata": {},
   "source": [
    "# LightGBM"
   ]
  },
  {
   "cell_type": "code",
   "execution_count": 34,
   "metadata": {},
   "outputs": [],
   "source": [
    "X_train, X_test, y_train, y_test = train_test_split(X, y, test_size=0.2, random_state=2021)"
   ]
  },
  {
   "cell_type": "code",
   "execution_count": 35,
   "metadata": {},
   "outputs": [],
   "source": [
    "SEED = 2021\n",
    "params = {\n",
    "              'boosting_type': 'gbdt',\n",
    "              'n_estimators': 1000,\n",
    "              'learning_rate': 0.1,\n",
    "              'num_leaves': 10,\n",
    "              'colsample_bytree': 0.6, #0.4\n",
    "              'subsample': 0.6,\n",
    "              'subsample_freq': 2,\n",
    "              'bagging_seed': SEED,\n",
    "              'reg_alpha': 8,\n",
    "              'reg_lambda': 2,\n",
    "              'random_state': SEED,\n",
    "              'n_jobs': -1,\n",
    "              'min_child_samples' : 25,\n",
    "              'metric' : 'mse',\n",
    "              }"
   ]
  },
  {
   "cell_type": "code",
   "execution_count": 36,
   "metadata": {},
   "outputs": [
    {
     "data": {
      "text/plain": [
       "lgb_train        0.934150\n",
       "lgb_test        -0.152908\n",
       "lgb_rmse_test    1.496079\n",
       "dtype: float64"
      ]
     },
     "execution_count": 36,
     "metadata": {},
     "output_type": "execute_result"
    }
   ],
   "source": [
    "# Default models\n",
    "models = {\"lgb\": lgb.LGBMRegressor(**params)}\n",
    "\n",
    "scores = {}\n",
    "for m in models:\n",
    "    models[m].fit(X_train, y_train)\n",
    "    scores[m + \"_train\"] = models[m].score(X_train, y_train )\n",
    "    y_pred = models[m].predict(X_test)\n",
    "    scores[m + \"_test\"] = r2_score(y_test, y_pred)\n",
    "    scores[m + \"_rmse_test\"] = np.sqrt(mean_squared_error(y_test, y_pred))\n",
    "    \n",
    "\n",
    "scores = pd.Series(scores).T\n",
    "scores"
   ]
  },
  {
   "cell_type": "code",
   "execution_count": 37,
   "metadata": {},
   "outputs": [],
   "source": [
    "df = df.reset_index(drop=True)"
   ]
  },
  {
   "cell_type": "code",
   "execution_count": 38,
   "metadata": {},
   "outputs": [],
   "source": [
    "df = df.loc[(df['Standard Type'] == 'Potency') & (df['Standard Units'] == 'nM')].dropna(subset=['Standard Value'])\n",
    "df['logValue'] = 1 * np.log(df['Standard Value'])\n",
    "X = df[features1]\n",
    "scaler = StandardScaler()\n",
    "X = pd.DataFrame(scaler.fit_transform(X),columns=features1)\n",
    "y = df['logValue']"
   ]
  },
  {
   "cell_type": "code",
   "execution_count": 39,
   "metadata": {},
   "outputs": [
    {
     "data": {
      "text/plain": [
       "count     2319.000000\n",
       "mean     20733.972445\n",
       "std      12780.615457\n",
       "min          2.100000\n",
       "25%       8492.100000\n",
       "50%      21331.300000\n",
       "75%      30131.300000\n",
       "max      60119.800000\n",
       "Name: Standard Value, dtype: float64"
      ]
     },
     "execution_count": 39,
     "metadata": {},
     "output_type": "execute_result"
    }
   ],
   "source": [
    "df['Standard Value'].describe()"
   ]
  },
  {
   "cell_type": "code",
   "execution_count": 40,
   "metadata": {},
   "outputs": [
    {
     "name": "stderr",
     "output_type": "stream",
     "text": [
      "/Users/bres4224/anaconda3/envs/my-rdkit-env/lib/python3.9/site-packages/sklearn/utils/validation.py:70: FutureWarning: Pass shuffle=True, random_state=1 as keyword args. From version 1.0 (renaming of 0.25) passing these as positional arguments will result in an error\n",
      "  warnings.warn(f\"Pass {args_msg} as keyword args. From version \"\n"
     ]
    },
    {
     "name": "stdout",
     "output_type": "stream",
     "text": [
      "Fold  1 :  1.5708647677801395\n",
      "Fold  2 :  1.4453558365434487\n",
      "Fold  3 :  1.5573057731542606\n",
      "Fold  4 :  1.5302964324309745\n",
      "Fold  5 :  1.6376232886654885\n"
     ]
    }
   ],
   "source": [
    "kfold = KFold(5, True, 1)\n",
    "fold = 1\n",
    "fold_preds = []\n",
    "scores = []\n",
    "for train_index, test_index in kfold.split(df):\n",
    "    #print(\"TRAIN:\", train_index, \"TEST:\", test_index)\n",
    "    X_train, X_test = X.iloc[train_index,:], X.iloc[test_index,:]\n",
    "    y_train, y_test = y[train_index], y[test_index]\n",
    "    \n",
    "    model = lgb.LGBMRegressor(**params)\n",
    "    \n",
    "    model.fit(X_train, y_train)\n",
    "    y_pred = model.predict(X_test)\n",
    "    score = np.sqrt(mean_squared_error(y_test, y_pred))\n",
    "    scores.append(score)\n",
    "    print('Fold ', fold, ': ',score)\n",
    "    \n",
    "    preds = model.predict(all_data[features1])\n",
    "    #print(preds.shape)\n",
    "    fold_preds.append(preds)\n",
    "    \n",
    "    # save model\n",
    "    #joblib.dump(model, 'lgb'+str(fold)+'.pkl')\n",
    "\n",
    "    fold += 1"
   ]
  },
  {
   "cell_type": "code",
   "execution_count": 41,
   "metadata": {},
   "outputs": [],
   "source": [
    "all_preds = np.stack(fold_preds)"
   ]
  },
  {
   "cell_type": "code",
   "execution_count": 42,
   "metadata": {},
   "outputs": [
    {
     "data": {
      "text/plain": [
       "(5, 91474)"
      ]
     },
     "execution_count": 42,
     "metadata": {},
     "output_type": "execute_result"
    }
   ],
   "source": [
    "all_preds.shape"
   ]
  },
  {
   "cell_type": "code",
   "execution_count": 43,
   "metadata": {},
   "outputs": [],
   "source": [
    "ave_preds = all_preds.sum(axis=0) / all_preds.shape[0]"
   ]
  },
  {
   "cell_type": "code",
   "execution_count": 44,
   "metadata": {},
   "outputs": [
    {
     "data": {
      "text/plain": [
       "array([8.34886008, 8.74912648, 8.98532726, ..., 7.81851572, 9.45770281,\n",
       "       8.75107008])"
      ]
     },
     "execution_count": 44,
     "metadata": {},
     "output_type": "execute_result"
    }
   ],
   "source": [
    "ave_preds"
   ]
  },
  {
   "cell_type": "code",
   "execution_count": 45,
   "metadata": {},
   "outputs": [],
   "source": [
    "model.fit(X,y)\n",
    "big_preds = model.predict(all_data[features1])"
   ]
  },
  {
   "cell_type": "code",
   "execution_count": 46,
   "metadata": {},
   "outputs": [
    {
     "name": "stderr",
     "output_type": "stream",
     "text": [
      "/Users/bres4224/anaconda3/envs/my-rdkit-env/lib/python3.9/site-packages/seaborn/distributions.py:2557: FutureWarning: `distplot` is a deprecated function and will be removed in a future version. Please adapt your code to use either `displot` (a figure-level function with similar flexibility) or `histplot` (an axes-level function for histograms).\n",
      "  warnings.warn(msg, FutureWarning)\n"
     ]
    },
    {
     "data": {
      "text/plain": [
       "<AxesSubplot:ylabel='Density'>"
      ]
     },
     "execution_count": 46,
     "metadata": {},
     "output_type": "execute_result"
    },
    {
     "data": {
      "image/png": "[encoded data removed]",
      "text/plain": [
       "<Figure size 432x288 with 1 Axes>"
      ]
     },
     "metadata": {
      "needs_background": "light"
     },
     "output_type": "display_data"
    }
   ],
   "source": [
    "sns.distplot(preds)"
   ]
  },
  {
   "cell_type": "code",
   "execution_count": 47,
   "metadata": {},
   "outputs": [
    {
     "name": "stderr",
     "output_type": "stream",
     "text": [
      "/Users/bres4224/anaconda3/envs/my-rdkit-env/lib/python3.9/site-packages/seaborn/distributions.py:2557: FutureWarning: `distplot` is a deprecated function and will be removed in a future version. Please adapt your code to use either `displot` (a figure-level function with similar flexibility) or `histplot` (an axes-level function for histograms).\n",
      "  warnings.warn(msg, FutureWarning)\n"
     ]
    },
    {
     "data": {
      "text/plain": [
       "<AxesSubplot:ylabel='Density'>"
      ]
     },
     "execution_count": 47,
     "metadata": {},
     "output_type": "execute_result"
    },
    {
     "data": {
      "image/png": "[encoded data removed]",
      "text/plain": [
       "<Figure size 432x288 with 1 Axes>"
      ]
     },
     "metadata": {
      "needs_background": "light"
     },
     "output_type": "display_data"
    }
   ],
   "source": [
    "sns.distplot(ave_preds)"
   ]
  },
  {
   "cell_type": "code",
   "execution_count": 48,
   "metadata": {},
   "outputs": [],
   "source": [
    "all_data['ave_pred'] = ave_preds"
   ]
  },
  {
   "cell_type": "code",
   "execution_count": 49,
   "metadata": {},
   "outputs": [],
   "source": [
    "all_data['big_preds'] = big_preds"
   ]
  },
  {
   "cell_type": "code",
   "execution_count": 50,
   "metadata": {},
   "outputs": [
    {
     "data": {
      "text/plain": [
       "count    91474.000000\n",
       "mean         8.620774\n",
       "std          0.600650\n",
       "min          6.508980\n",
       "25%          8.213579\n",
       "50%          8.718417\n",
       "75%          9.120038\n",
       "max         10.819740\n",
       "Name: big_preds, dtype: float64"
      ]
     },
     "execution_count": 50,
     "metadata": {},
     "output_type": "execute_result"
    }
   ],
   "source": [
    "all_data.big_preds.describe()"
   ]
  },
  {
   "cell_type": "code",
   "execution_count": 51,
   "metadata": {},
   "outputs": [
    {
     "data": {
      "text/plain": [
       "count    91474.000000\n",
       "mean         8.684867\n",
       "std          0.572839\n",
       "min          6.842873\n",
       "25%          8.241590\n",
       "50%          8.821378\n",
       "75%          9.133824\n",
       "max         10.562756\n",
       "Name: ave_pred, dtype: float64"
      ]
     },
     "execution_count": 51,
     "metadata": {},
     "output_type": "execute_result"
    }
   ],
   "source": [
    "all_data.ave_pred.describe()"
   ]
  },
  {
   "cell_type": "code",
   "execution_count": 52,
   "metadata": {},
   "outputs": [
    {
     "data": {
      "text/plain": [
       "'C[C@H]1OC[C@@H](C)O1'"
      ]
     },
     "execution_count": 52,
     "metadata": {},
     "output_type": "execute_result"
    }
   ],
   "source": [
    "candidate = all_data.sort_values('ave_pred', ascending=False).iloc[1,1]\n",
    "candidate"
   ]
  },
  {
   "cell_type": "code",
   "execution_count": 56,
   "metadata": {},
   "outputs": [
    {
     "data": {
      "text/plain": [
       "'C[C@H]1CO[C@H](C)O1'"
      ]
     },
     "execution_count": 56,
     "metadata": {},
     "output_type": "execute_result"
    }
   ],
   "source": [
    "candidate2 = all_data.sort_values('big_preds', ascending=False).iloc[1,1]\n",
    "candidate2"
   ]
  },
  {
   "cell_type": "code",
   "execution_count": 67,
   "metadata": {},
   "outputs": [
    {
     "data": {
      "text/plain": [
       "'CC1=N[C@@H](C)OC1'"
      ]
     },
     "execution_count": 67,
     "metadata": {},
     "output_type": "execute_result"
    }
   ],
   "source": [
    "candidate3 = all_data.sort_values('big_preds', ascending=False).iloc[6,1]\n",
    "candidate3"
   ]
  },
  {
   "cell_type": "code",
   "execution_count": 70,
   "metadata": {
    "scrolled": true
   },
   "outputs": [
    {
     "data": {
      "text/html": [
       "<div>\n",
       "<style scoped>\n",
       "    .dataframe tbody tr th:only-of-type {\n",
       "        vertical-align: middle;\n",
       "    }\n",
       "\n",
       "    .dataframe tbody tr th {\n",
       "        vertical-align: top;\n",
       "    }\n",
       "\n",
       "    .dataframe thead th {\n",
       "        text-align: right;\n",
       "    }\n",
       "</style>\n",
       "<table border=\"1\" class=\"dataframe\">\n",
       "  <thead>\n",
       "    <tr style=\"text-align: right;\">\n",
       "      <th></th>\n",
       "      <th>old_index</th>\n",
       "      <th>Smiles</th>\n",
       "      <th>mol</th>\n",
       "      <th>MolLogP</th>\n",
       "      <th>AMW</th>\n",
       "      <th>NumRotatableBonds</th>\n",
       "      <th>fp</th>\n",
       "      <th>HeavyAtomCount</th>\n",
       "      <th>HAccept</th>\n",
       "      <th>HDonor</th>\n",
       "      <th>...</th>\n",
       "      <th>SaturatedRings</th>\n",
       "      <th>AliphaticRings</th>\n",
       "      <th>AromaticRings</th>\n",
       "      <th>Ipc</th>\n",
       "      <th>HallKierAlpha</th>\n",
       "      <th>NumValenceElectrons</th>\n",
       "      <th>ECFP6</th>\n",
       "      <th>RDKFP</th>\n",
       "      <th>ave_pred</th>\n",
       "      <th>big_preds</th>\n",
       "    </tr>\n",
       "  </thead>\n",
       "  <tbody>\n",
       "    <tr>\n",
       "      <th>47643</th>\n",
       "      <td>37688</td>\n",
       "      <td>C[C@H]1CO[C@@H](C)O1</td>\n",
       "      <td>&lt;rdkit.Chem.rdchem.Mol object at 0x1e8410a00&gt;</td>\n",
       "      <td>0.7677</td>\n",
       "      <td>102.133</td>\n",
       "      <td>0</td>\n",
       "      <td>[0, 0, 0, 0, 0, 0, 0, 0, 0, 0, 0, 0, 0, 0, 0, ...</td>\n",
       "      <td>7</td>\n",
       "      <td>2</td>\n",
       "      <td>0</td>\n",
       "      <td>...</td>\n",
       "      <td>1</td>\n",
       "      <td>1</td>\n",
       "      <td>0</td>\n",
       "      <td>46.670483</td>\n",
       "      <td>-0.08</td>\n",
       "      <td>42</td>\n",
       "      <td>[0, 0, 0, 0, 0, 0, 0, 0, 0, 0, 0, 0, 0, 0, 0, ...</td>\n",
       "      <td>[0, 0, 0, 0, 0, 1, 0, 0, 0, 0, 0, 0, 0, 0, 0, ...</td>\n",
       "      <td>10.562756</td>\n",
       "      <td>10.81974</td>\n",
       "    </tr>\n",
       "    <tr>\n",
       "      <th>53135</th>\n",
       "      <td>43180</td>\n",
       "      <td>C[C@H]1CO[C@H](C)O1</td>\n",
       "      <td>&lt;rdkit.Chem.rdchem.Mol object at 0x1e8493640&gt;</td>\n",
       "      <td>0.7677</td>\n",
       "      <td>102.133</td>\n",
       "      <td>0</td>\n",
       "      <td>[0, 0, 0, 0, 0, 0, 0, 0, 0, 0, 0, 0, 0, 0, 0, ...</td>\n",
       "      <td>7</td>\n",
       "      <td>2</td>\n",
       "      <td>0</td>\n",
       "      <td>...</td>\n",
       "      <td>1</td>\n",
       "      <td>1</td>\n",
       "      <td>0</td>\n",
       "      <td>46.670483</td>\n",
       "      <td>-0.08</td>\n",
       "      <td>42</td>\n",
       "      <td>[0, 0, 0, 0, 0, 0, 0, 0, 0, 0, 0, 0, 0, 0, 0, ...</td>\n",
       "      <td>[0, 0, 0, 0, 0, 1, 0, 0, 0, 0, 0, 0, 0, 0, 0, ...</td>\n",
       "      <td>10.562756</td>\n",
       "      <td>10.81974</td>\n",
       "    </tr>\n",
       "    <tr>\n",
       "      <th>25457</th>\n",
       "      <td>15502</td>\n",
       "      <td>C[C@@H]1CO[C@@H](C)O1</td>\n",
       "      <td>&lt;rdkit.Chem.rdchem.Mol object at 0x1e8200760&gt;</td>\n",
       "      <td>0.7677</td>\n",
       "      <td>102.133</td>\n",
       "      <td>0</td>\n",
       "      <td>[0, 0, 0, 0, 0, 0, 0, 0, 0, 0, 0, 0, 0, 0, 0, ...</td>\n",
       "      <td>7</td>\n",
       "      <td>2</td>\n",
       "      <td>0</td>\n",
       "      <td>...</td>\n",
       "      <td>1</td>\n",
       "      <td>1</td>\n",
       "      <td>0</td>\n",
       "      <td>46.670483</td>\n",
       "      <td>-0.08</td>\n",
       "      <td>42</td>\n",
       "      <td>[0, 0, 0, 0, 0, 0, 0, 0, 0, 0, 0, 0, 0, 0, 0, ...</td>\n",
       "      <td>[0, 0, 0, 0, 0, 1, 0, 0, 0, 0, 0, 0, 0, 0, 0, ...</td>\n",
       "      <td>10.562756</td>\n",
       "      <td>10.81974</td>\n",
       "    </tr>\n",
       "    <tr>\n",
       "      <th>48031</th>\n",
       "      <td>38076</td>\n",
       "      <td>C[C@H]1OC[C@@H](C)O1</td>\n",
       "      <td>&lt;rdkit.Chem.rdchem.Mol object at 0x1e8419dc0&gt;</td>\n",
       "      <td>0.7677</td>\n",
       "      <td>102.133</td>\n",
       "      <td>0</td>\n",
       "      <td>[0, 0, 0, 0, 0, 0, 0, 0, 0, 0, 0, 0, 0, 0, 0, ...</td>\n",
       "      <td>7</td>\n",
       "      <td>2</td>\n",
       "      <td>0</td>\n",
       "      <td>...</td>\n",
       "      <td>1</td>\n",
       "      <td>1</td>\n",
       "      <td>0</td>\n",
       "      <td>46.670483</td>\n",
       "      <td>-0.08</td>\n",
       "      <td>42</td>\n",
       "      <td>[0, 0, 0, 0, 0, 0, 0, 0, 0, 0, 0, 0, 0, 0, 0, ...</td>\n",
       "      <td>[0, 0, 0, 0, 0, 1, 0, 0, 0, 0, 0, 0, 0, 0, 0, ...</td>\n",
       "      <td>10.562756</td>\n",
       "      <td>10.81974</td>\n",
       "    </tr>\n",
       "    <tr>\n",
       "      <th>72101</th>\n",
       "      <td>62146</td>\n",
       "      <td>O=C1CCSC1</td>\n",
       "      <td>&lt;rdkit.Chem.rdchem.Mol object at 0x1e8656a60&gt;</td>\n",
       "      <td>0.6924</td>\n",
       "      <td>102.158</td>\n",
       "      <td>0</td>\n",
       "      <td>[0, 0, 0, 0, 0, 0, 0, 0, 0, 0, 0, 0, 0, 0, 0, ...</td>\n",
       "      <td>6</td>\n",
       "      <td>2</td>\n",
       "      <td>0</td>\n",
       "      <td>...</td>\n",
       "      <td>1</td>\n",
       "      <td>1</td>\n",
       "      <td>0</td>\n",
       "      <td>33.548875</td>\n",
       "      <td>0.02</td>\n",
       "      <td>34</td>\n",
       "      <td>[0, 0, 0, 0, 0, 0, 0, 0, 0, 0, 0, 0, 0, 0, 0, ...</td>\n",
       "      <td>[0, 0, 0, 0, 0, 0, 0, 0, 0, 0, 0, 0, 0, 0, 0, ...</td>\n",
       "      <td>10.428995</td>\n",
       "      <td>10.70250</td>\n",
       "    </tr>\n",
       "    <tr>\n",
       "      <th>...</th>\n",
       "      <td>...</td>\n",
       "      <td>...</td>\n",
       "      <td>...</td>\n",
       "      <td>...</td>\n",
       "      <td>...</td>\n",
       "      <td>...</td>\n",
       "      <td>...</td>\n",
       "      <td>...</td>\n",
       "      <td>...</td>\n",
       "      <td>...</td>\n",
       "      <td>...</td>\n",
       "      <td>...</td>\n",
       "      <td>...</td>\n",
       "      <td>...</td>\n",
       "      <td>...</td>\n",
       "      <td>...</td>\n",
       "      <td>...</td>\n",
       "      <td>...</td>\n",
       "      <td>...</td>\n",
       "      <td>...</td>\n",
       "      <td>...</td>\n",
       "    </tr>\n",
       "    <tr>\n",
       "      <th>8923</th>\n",
       "      <td>4871</td>\n",
       "      <td>N[C@@H]1C[C@@H]1c1ccccc1</td>\n",
       "      <td>&lt;rdkit.Chem.rdchem.Mol object at 0x1e8076ca0&gt;</td>\n",
       "      <td>1.5012</td>\n",
       "      <td>133.194</td>\n",
       "      <td>1</td>\n",
       "      <td>[0, 0, 0, 0, 0, 0, 0, 0, 0, 0, 0, 0, 0, 0, 0, ...</td>\n",
       "      <td>10</td>\n",
       "      <td>1</td>\n",
       "      <td>1</td>\n",
       "      <td>...</td>\n",
       "      <td>1</td>\n",
       "      <td>1</td>\n",
       "      <td>1</td>\n",
       "      <td>495.271512</td>\n",
       "      <td>-0.82</td>\n",
       "      <td>52</td>\n",
       "      <td>[0, 0, 0, 0, 0, 0, 0, 0, 0, 0, 0, 0, 0, 0, 0, ...</td>\n",
       "      <td>[0, 0, 0, 0, 0, 0, 0, 0, 1, 0, 0, 0, 0, 0, 1, ...</td>\n",
       "      <td>6.922493</td>\n",
       "      <td>6.50898</td>\n",
       "    </tr>\n",
       "    <tr>\n",
       "      <th>2444</th>\n",
       "      <td>2444</td>\n",
       "      <td>N[C@@H]1C[C@H]1C1=CC=CC=C1</td>\n",
       "      <td>&lt;rdkit.Chem.rdchem.Mol object at 0x1e7fdc880&gt;</td>\n",
       "      <td>1.5012</td>\n",
       "      <td>133.194</td>\n",
       "      <td>1</td>\n",
       "      <td>[0, 0, 0, 0, 0, 0, 0, 0, 0, 0, 0, 0, 0, 0, 0, ...</td>\n",
       "      <td>10</td>\n",
       "      <td>1</td>\n",
       "      <td>1</td>\n",
       "      <td>...</td>\n",
       "      <td>1</td>\n",
       "      <td>1</td>\n",
       "      <td>1</td>\n",
       "      <td>495.271512</td>\n",
       "      <td>-0.82</td>\n",
       "      <td>52</td>\n",
       "      <td>[0, 0, 0, 0, 0, 0, 0, 0, 0, 0, 0, 0, 0, 0, 0, ...</td>\n",
       "      <td>[0, 0, 0, 0, 0, 0, 0, 0, 1, 0, 0, 0, 0, 0, 1, ...</td>\n",
       "      <td>6.922493</td>\n",
       "      <td>6.50898</td>\n",
       "    </tr>\n",
       "    <tr>\n",
       "      <th>6446</th>\n",
       "      <td>2394</td>\n",
       "      <td>N[C@H]1C[C@@H]1c1ccccc1</td>\n",
       "      <td>&lt;rdkit.Chem.rdchem.Mol object at 0x1e803bd00&gt;</td>\n",
       "      <td>1.5012</td>\n",
       "      <td>133.194</td>\n",
       "      <td>1</td>\n",
       "      <td>[0, 0, 0, 0, 0, 0, 0, 0, 0, 0, 0, 0, 0, 0, 0, ...</td>\n",
       "      <td>10</td>\n",
       "      <td>1</td>\n",
       "      <td>1</td>\n",
       "      <td>...</td>\n",
       "      <td>1</td>\n",
       "      <td>1</td>\n",
       "      <td>1</td>\n",
       "      <td>495.271512</td>\n",
       "      <td>-0.82</td>\n",
       "      <td>52</td>\n",
       "      <td>[0, 0, 0, 0, 0, 0, 0, 0, 0, 0, 0, 0, 0, 0, 0, ...</td>\n",
       "      <td>[0, 0, 0, 0, 0, 0, 0, 0, 1, 0, 0, 0, 0, 0, 1, ...</td>\n",
       "      <td>6.922493</td>\n",
       "      <td>6.50898</td>\n",
       "    </tr>\n",
       "    <tr>\n",
       "      <th>6422</th>\n",
       "      <td>2370</td>\n",
       "      <td>N[C@@H]1C[C@H]1c1ccccc1</td>\n",
       "      <td>&lt;rdkit.Chem.rdchem.Mol object at 0x1e803b400&gt;</td>\n",
       "      <td>1.5012</td>\n",
       "      <td>133.194</td>\n",
       "      <td>1</td>\n",
       "      <td>[0, 0, 0, 0, 0, 0, 0, 0, 0, 0, 0, 0, 0, 0, 0, ...</td>\n",
       "      <td>10</td>\n",
       "      <td>1</td>\n",
       "      <td>1</td>\n",
       "      <td>...</td>\n",
       "      <td>1</td>\n",
       "      <td>1</td>\n",
       "      <td>1</td>\n",
       "      <td>495.271512</td>\n",
       "      <td>-0.82</td>\n",
       "      <td>52</td>\n",
       "      <td>[0, 0, 0, 0, 0, 0, 0, 0, 0, 0, 0, 0, 0, 0, 0, ...</td>\n",
       "      <td>[0, 0, 0, 0, 0, 0, 0, 0, 1, 0, 0, 0, 0, 0, 1, ...</td>\n",
       "      <td>6.922493</td>\n",
       "      <td>6.50898</td>\n",
       "    </tr>\n",
       "    <tr>\n",
       "      <th>6004</th>\n",
       "      <td>1952</td>\n",
       "      <td>N[C@H]1C[C@H]1c1ccccc1</td>\n",
       "      <td>&lt;rdkit.Chem.rdchem.Mol object at 0x1e80314c0&gt;</td>\n",
       "      <td>1.5012</td>\n",
       "      <td>133.194</td>\n",
       "      <td>1</td>\n",
       "      <td>[0, 0, 0, 0, 0, 0, 0, 0, 0, 0, 0, 0, 0, 0, 0, ...</td>\n",
       "      <td>10</td>\n",
       "      <td>1</td>\n",
       "      <td>1</td>\n",
       "      <td>...</td>\n",
       "      <td>1</td>\n",
       "      <td>1</td>\n",
       "      <td>1</td>\n",
       "      <td>495.271512</td>\n",
       "      <td>-0.82</td>\n",
       "      <td>52</td>\n",
       "      <td>[0, 0, 0, 0, 0, 0, 0, 0, 0, 0, 0, 0, 0, 0, 0, ...</td>\n",
       "      <td>[0, 0, 0, 0, 0, 0, 0, 0, 1, 0, 0, 0, 0, 0, 1, ...</td>\n",
       "      <td>6.922493</td>\n",
       "      <td>6.50898</td>\n",
       "    </tr>\n",
       "  </tbody>\n",
       "</table>\n",
       "<p>91474 rows × 22 columns</p>\n",
       "</div>"
      ],
      "text/plain": [
       "       old_index                      Smiles  \\\n",
       "47643      37688        C[C@H]1CO[C@@H](C)O1   \n",
       "53135      43180         C[C@H]1CO[C@H](C)O1   \n",
       "25457      15502       C[C@@H]1CO[C@@H](C)O1   \n",
       "48031      38076        C[C@H]1OC[C@@H](C)O1   \n",
       "72101      62146                   O=C1CCSC1   \n",
       "...          ...                         ...   \n",
       "8923        4871    N[C@@H]1C[C@@H]1c1ccccc1   \n",
       "2444        2444  N[C@@H]1C[C@H]1C1=CC=CC=C1   \n",
       "6446        2394     N[C@H]1C[C@@H]1c1ccccc1   \n",
       "6422        2370     N[C@@H]1C[C@H]1c1ccccc1   \n",
       "6004        1952      N[C@H]1C[C@H]1c1ccccc1   \n",
       "\n",
       "                                                 mol  MolLogP      AMW  \\\n",
       "47643  <rdkit.Chem.rdchem.Mol object at 0x1e8410a00>   0.7677  102.133   \n",
       "53135  <rdkit.Chem.rdchem.Mol object at 0x1e8493640>   0.7677  102.133   \n",
       "25457  <rdkit.Chem.rdchem.Mol object at 0x1e8200760>   0.7677  102.133   \n",
       "48031  <rdkit.Chem.rdchem.Mol object at 0x1e8419dc0>   0.7677  102.133   \n",
       "72101  <rdkit.Chem.rdchem.Mol object at 0x1e8656a60>   0.6924  102.158   \n",
       "...                                              ...      ...      ...   \n",
       "8923   <rdkit.Chem.rdchem.Mol object at 0x1e8076ca0>   1.5012  133.194   \n",
       "2444   <rdkit.Chem.rdchem.Mol object at 0x1e7fdc880>   1.5012  133.194   \n",
       "6446   <rdkit.Chem.rdchem.Mol object at 0x1e803bd00>   1.5012  133.194   \n",
       "6422   <rdkit.Chem.rdchem.Mol object at 0x1e803b400>   1.5012  133.194   \n",
       "6004   <rdkit.Chem.rdchem.Mol object at 0x1e80314c0>   1.5012  133.194   \n",
       "\n",
       "       NumRotatableBonds                                                 fp  \\\n",
       "47643                  0  [0, 0, 0, 0, 0, 0, 0, 0, 0, 0, 0, 0, 0, 0, 0, ...   \n",
       "53135                  0  [0, 0, 0, 0, 0, 0, 0, 0, 0, 0, 0, 0, 0, 0, 0, ...   \n",
       "25457                  0  [0, 0, 0, 0, 0, 0, 0, 0, 0, 0, 0, 0, 0, 0, 0, ...   \n",
       "48031                  0  [0, 0, 0, 0, 0, 0, 0, 0, 0, 0, 0, 0, 0, 0, 0, ...   \n",
       "72101                  0  [0, 0, 0, 0, 0, 0, 0, 0, 0, 0, 0, 0, 0, 0, 0, ...   \n",
       "...                  ...                                                ...   \n",
       "8923                   1  [0, 0, 0, 0, 0, 0, 0, 0, 0, 0, 0, 0, 0, 0, 0, ...   \n",
       "2444                   1  [0, 0, 0, 0, 0, 0, 0, 0, 0, 0, 0, 0, 0, 0, 0, ...   \n",
       "6446                   1  [0, 0, 0, 0, 0, 0, 0, 0, 0, 0, 0, 0, 0, 0, 0, ...   \n",
       "6422                   1  [0, 0, 0, 0, 0, 0, 0, 0, 0, 0, 0, 0, 0, 0, 0, ...   \n",
       "6004                   1  [0, 0, 0, 0, 0, 0, 0, 0, 0, 0, 0, 0, 0, 0, 0, ...   \n",
       "\n",
       "       HeavyAtomCount  HAccept  HDonor  ...  SaturatedRings  AliphaticRings  \\\n",
       "47643               7        2       0  ...               1               1   \n",
       "53135               7        2       0  ...               1               1   \n",
       "25457               7        2       0  ...               1               1   \n",
       "48031               7        2       0  ...               1               1   \n",
       "72101               6        2       0  ...               1               1   \n",
       "...               ...      ...     ...  ...             ...             ...   \n",
       "8923               10        1       1  ...               1               1   \n",
       "2444               10        1       1  ...               1               1   \n",
       "6446               10        1       1  ...               1               1   \n",
       "6422               10        1       1  ...               1               1   \n",
       "6004               10        1       1  ...               1               1   \n",
       "\n",
       "       AromaticRings         Ipc  HallKierAlpha  NumValenceElectrons  \\\n",
       "47643              0   46.670483          -0.08                   42   \n",
       "53135              0   46.670483          -0.08                   42   \n",
       "25457              0   46.670483          -0.08                   42   \n",
       "48031              0   46.670483          -0.08                   42   \n",
       "72101              0   33.548875           0.02                   34   \n",
       "...              ...         ...            ...                  ...   \n",
       "8923               1  495.271512          -0.82                   52   \n",
       "2444               1  495.271512          -0.82                   52   \n",
       "6446               1  495.271512          -0.82                   52   \n",
       "6422               1  495.271512          -0.82                   52   \n",
       "6004               1  495.271512          -0.82                   52   \n",
       "\n",
       "                                                   ECFP6  \\\n",
       "47643  [0, 0, 0, 0, 0, 0, 0, 0, 0, 0, 0, 0, 0, 0, 0, ...   \n",
       "53135  [0, 0, 0, 0, 0, 0, 0, 0, 0, 0, 0, 0, 0, 0, 0, ...   \n",
       "25457  [0, 0, 0, 0, 0, 0, 0, 0, 0, 0, 0, 0, 0, 0, 0, ...   \n",
       "48031  [0, 0, 0, 0, 0, 0, 0, 0, 0, 0, 0, 0, 0, 0, 0, ...   \n",
       "72101  [0, 0, 0, 0, 0, 0, 0, 0, 0, 0, 0, 0, 0, 0, 0, ...   \n",
       "...                                                  ...   \n",
       "8923   [0, 0, 0, 0, 0, 0, 0, 0, 0, 0, 0, 0, 0, 0, 0, ...   \n",
       "2444   [0, 0, 0, 0, 0, 0, 0, 0, 0, 0, 0, 0, 0, 0, 0, ...   \n",
       "6446   [0, 0, 0, 0, 0, 0, 0, 0, 0, 0, 0, 0, 0, 0, 0, ...   \n",
       "6422   [0, 0, 0, 0, 0, 0, 0, 0, 0, 0, 0, 0, 0, 0, 0, ...   \n",
       "6004   [0, 0, 0, 0, 0, 0, 0, 0, 0, 0, 0, 0, 0, 0, 0, ...   \n",
       "\n",
       "                                                   RDKFP   ave_pred big_preds  \n",
       "47643  [0, 0, 0, 0, 0, 1, 0, 0, 0, 0, 0, 0, 0, 0, 0, ...  10.562756  10.81974  \n",
       "53135  [0, 0, 0, 0, 0, 1, 0, 0, 0, 0, 0, 0, 0, 0, 0, ...  10.562756  10.81974  \n",
       "25457  [0, 0, 0, 0, 0, 1, 0, 0, 0, 0, 0, 0, 0, 0, 0, ...  10.562756  10.81974  \n",
       "48031  [0, 0, 0, 0, 0, 1, 0, 0, 0, 0, 0, 0, 0, 0, 0, ...  10.562756  10.81974  \n",
       "72101  [0, 0, 0, 0, 0, 0, 0, 0, 0, 0, 0, 0, 0, 0, 0, ...  10.428995  10.70250  \n",
       "...                                                  ...        ...       ...  \n",
       "8923   [0, 0, 0, 0, 0, 0, 0, 0, 1, 0, 0, 0, 0, 0, 1, ...   6.922493   6.50898  \n",
       "2444   [0, 0, 0, 0, 0, 0, 0, 0, 1, 0, 0, 0, 0, 0, 1, ...   6.922493   6.50898  \n",
       "6446   [0, 0, 0, 0, 0, 0, 0, 0, 1, 0, 0, 0, 0, 0, 1, ...   6.922493   6.50898  \n",
       "6422   [0, 0, 0, 0, 0, 0, 0, 0, 1, 0, 0, 0, 0, 0, 1, ...   6.922493   6.50898  \n",
       "6004   [0, 0, 0, 0, 0, 0, 0, 0, 1, 0, 0, 0, 0, 0, 1, ...   6.922493   6.50898  \n",
       "\n",
       "[91474 rows x 22 columns]"
      ]
     },
     "execution_count": 70,
     "metadata": {},
     "output_type": "execute_result"
    }
   ],
   "source": [
    "all_data.sort_values('big_preds', ascending=False)"
   ]
  },
  {
   "cell_type": "code",
   "execution_count": 55,
   "metadata": {},
   "outputs": [],
   "source": [
    "# C(C1C(=CC(OC)=CC=1OC)OC)(=O)CCCN1CCCC1"
   ]
  },
  {
   "cell_type": "code",
   "execution_count": null,
   "metadata": {},
   "outputs": [],
   "source": []
  }
 ],
 "metadata": {
  "kernelspec": {
   "display_name": "Python 3",
   "language": "python",
   "name": "python3"
  },
  "language_info": {
   "codemirror_mode": {
    "name": "ipython",
    "version": 3
   },
   "file_extension": ".py",
   "mimetype": "text/x-python",
   "name": "python",
   "nbconvert_exporter": "python",
   "pygments_lexer": "ipython3",
   "version": "3.9.2"
  }
 },
 "nbformat": 4,
 "nbformat_minor": 4
}

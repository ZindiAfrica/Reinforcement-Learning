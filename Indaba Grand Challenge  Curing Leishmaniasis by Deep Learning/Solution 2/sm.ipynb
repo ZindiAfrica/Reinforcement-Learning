{
 "cells": [
  {
   "cell_type": "markdown",
   "metadata": {
    "toc": true
   },
   "source": [
    "<h1>Table of Contents<span class=\"tocSkip\"></span></h1>\n",
    "<div class=\"toc\"><ul class=\"toc-item\"><li><span><a href=\"#Dataset-Statistics\" data-toc-modified-id=\"Dataset-Statistics-1\"><span class=\"toc-item-num\">1&nbsp;&nbsp;</span>Dataset Statistics</a></span><ul class=\"toc-item\"><li><span><a href=\"#BindingDB-Dataset-(Kd-value)\" data-toc-modified-id=\"BindingDB-Dataset-(Kd-value)-1.1\"><span class=\"toc-item-num\">1.1&nbsp;&nbsp;</span>BindingDB Dataset (Kd value)</a></span></li><li><span><a href=\"#Competition-Dataset\" data-toc-modified-id=\"Competition-Dataset-1.2\"><span class=\"toc-item-num\">1.2&nbsp;&nbsp;</span>Competition Dataset</a></span></li><li><span><a href=\"#Overlapping-Data\" data-toc-modified-id=\"Overlapping-Data-1.3\"><span class=\"toc-item-num\">1.3&nbsp;&nbsp;</span>Overlapping Data</a></span></li></ul></li><li><span><a href=\"#Chemical-Sampling\" data-toc-modified-id=\"Chemical-Sampling-2\"><span class=\"toc-item-num\">2&nbsp;&nbsp;</span>Chemical Sampling</a></span><ul class=\"toc-item\"><li><span><a href=\"#Structural-Similarity-with-Tanimoto-Distance\" data-toc-modified-id=\"Structural-Similarity-with-Tanimoto-Distance-2.1\"><span class=\"toc-item-num\">2.1&nbsp;&nbsp;</span>Structural Similarity with Tanimoto Distance</a></span></li></ul></li></ul></div>"
   ]
  },
  {
   "cell_type": "code",
   "execution_count": 1,
   "metadata": {},
   "outputs": [],
   "source": [
    "from Bio import SeqIO\n",
    "import pandas as pd"
   ]
  },
  {
   "cell_type": "markdown",
   "metadata": {},
   "source": [
    "# Dataset Statistics"
   ]
  },
  {
   "cell_type": "markdown",
   "metadata": {},
   "source": [
    "## BindingDB Dataset (Kd value)"
   ]
  },
  {
   "cell_type": "code",
   "execution_count": 10,
   "metadata": {},
   "outputs": [],
   "source": [
    "# 6 unique drugs in BindingDB with KD\n",
    "chem_bdb = {'Nc1nc(N)c2cc(NCc3ccc(cc3)[N+]([O-])=O)ccc2n1',\n",
    "            'Nc1nc(N)c2cc(ccc2n1)[N+]([O-])=O',\n",
    "            'Nc1nc(N)c2cc(NCc3ccc(O)cc3)ccc2n1',\n",
    "            'COc1ccc(CNc2ccc3nc(N)nc(N)c3c2)cc1',\n",
    "            'Nc1nc(N)c2cc(NCCn3c(nc4cc(Cl)c(Cl)cc34)C(F)(F)F)ccc2n1',\n",
    "            'Nc1ccc2nc(N)nc(N)c2c1'}\n",
    "\n",
    "# 2 unique protein in BindingDB with KD\n",
    "prot_bdb = {'MTAPTVPVALVTGAAKRLGRSIAEGLHAEGYAVCLHYHRSAAEANALSATLNARRPNSAITVQADLSNVATAPVSGADGSAPVTLFTRCAELVAACYTHWGRCDVLVNNASSFYPTPLLRNDEDGHEPCVGDREAMETATADLFGSNAIAPYFLIKAFAHRFAGTPAKHRGTNYSIINMVDAMTNQPLLGYTIYTMAKGALEGLTRSAALELAPLQIRVNGVGPGLSVLVDDMPPAVWEGHRSKVPLYQRDSSAAEVSDVVIFLCSSKAKYITGTCVKVDGGYSLTRA',\n",
    "            'MSRAAARFKIPMPETKADFAFPSLRAFSIVVALDMQHGIGDGESIPWRVPEDMTFFKNQTTLLRNKKPPTEKKRNAVVMGRKTWESVPVKFRPLKGRLNIVLSSKATVEELLAPLPEGQRAAAAQDVVVVNGGLAEALRLLARPLYCSSIETAYCVGGAQVYADAMLSPCIEKLQEVYLTRIYATAPACTRFFPFPPENAATAWDLASSQGRRKSEAEGLEFEICKYVPRNHEERQYLELIDRIMKTGIVKEDRTGVGTISLFGAQMRFSLRDNRLPLLTTKRVFWRGVCEELLWFLRGETSAQLLADKDIHIWDGNGSREFLDSRGLTENKEMDLGPVYGFQWRHFGADYKGFEANYDGEGVDQIKLIVETIKTNPNDRRLLVTAWNPCALQKMALPPCHLLAQFYVNTDTSELSCMLYQRSCDMGLGVPFNIASYALLTILIAKATGLRPGELVHTLGDAHVYRNHVDALKAQLERVPHAFPTLIFKEERQYLEDYELTDMEVIDYVPHPAIKMEMAV'}\n"
   ]
  },
  {
   "cell_type": "markdown",
   "metadata": {},
   "source": [
    "## Competition Dataset"
   ]
  },
  {
   "cell_type": "code",
   "execution_count": 6,
   "metadata": {},
   "outputs": [],
   "source": [
    "# proteins\n",
    "path = \"data/Targets/l.major.fasta\"\n",
    "records = list(SeqIO.parse(path, \"fasta\"))\n",
    "prot_cha = {i.seq._data for i in records}               # 8,495 proteins\n",
    "\n",
    "path = \"data/Targets/preferredTargets.unique.fasta\"\n",
    "records_pref = list(SeqIO.parse(path, \"fasta\"))\n",
    "prot_cha_pref = {i.seq._data for i in records_pref}     # 34,594 proteins\n",
    "\n",
    "path = \"data/Targets/all_targets.fasta\"\n",
    "records_all = list(SeqIO.parse(path, \"fasta\"))\n",
    "prot_cha_all = {i.seq._data for i in records_all}       # 79,982 proteins\n",
    "\n",
    "# chemicals\n",
    "ddd = pd.read_csv(\"data/Molecules/drugBank_leishmania.smiles\")\n",
    "d = set(ddd['smiles'])\n",
    "\n",
    "ddd = pd.read_csv(\"data/Molecules/drugCentral.csv\", sep=',', header=0, usecols=[1, 5])\n",
    "dp = set(ddd['SMILES'])\n",
    "\n",
    "ddd = pd.read_csv(\"data/Molecules/endogenous.csv\", sep=',', header=0)\n",
    "dpp = set(ddd['smiles'])\n",
    "\n",
    "ddd = pd.read_csv(\"data/Molecules/in-trials.csv\", sep=',', header=0)\n",
    "dppp = set(ddd['smiles'])\n",
    "\n",
    "ddd = pd.read_csv(\"data/Molecules/world.csv\", sep=',', header=0)\n",
    "dpppp = set(ddd['smiles'])\n",
    "\n",
    "chem_all = d | dp | dpp | dppp | dpppp                  # 94,053 chemiclas\n"
   ]
  },
  {
   "cell_type": "markdown",
   "metadata": {},
   "source": [
    "## Overlapping Data"
   ]
  },
  {
   "cell_type": "code",
   "execution_count": 11,
   "metadata": {},
   "outputs": [],
   "source": [
    "# proteins\n",
    "overlap_prot = prot_cha & prot_bdb              # 2 overlapping protein with l.major\n",
    "overlap_prot_pref = prot_cha_pref & prot_bdb    # 2 overlapping protein with l.prefferredTargets\n",
    "overlap_prot_all = prot_cha_all & prot_bdb      # 2 overlapping protein with l.all\n",
    "\n",
    "# chemicals\n",
    "overlap_chem = chem_all & chem_bdb              # No overlapping chemiclas\n"
   ]
  },
  {
   "cell_type": "markdown",
   "metadata": {},
   "source": [
    "# Chemical Sampling"
   ]
  },
  {
   "cell_type": "markdown",
   "metadata": {},
   "source": [
    "## Structural Similarity with Tanimoto Distance"
   ]
  },
  {
   "cell_type": "code",
   "execution_count": 16,
   "metadata": {},
   "outputs": [],
   "source": [
    "from rdkit import Chem\n",
    "from rdkit.DataStructs import FingerprintSimilarity\n",
    "from sklearn.cluster import AffinityPropagation\n",
    "import numpy as np\n",
    "\n",
    "%matplotlib inline\n",
    "import matplotlib.pyplot as plt\n",
    "from itertools import cycle\n"
   ]
  },
  {
   "cell_type": "code",
   "execution_count": 23,
   "metadata": {},
   "outputs": [],
   "source": [
    "m1 = Chem.MolFromSmiles('Nc1ccc2nc(N)nc(N)c2c1')\n",
    "m2 = Chem.MolFromSmiles('COc1ccc(CNc2ccc3nc(N)nc(N)c3c2)cc1')\n",
    "FingerprintSimilarity(Chem.RDKFingerprint(m1), Chem.RDKFingerprint(m2))\n",
    "\n",
    "n_bdb = len(chem_bdb)\n",
    "chems = list(chem_bdb) + list(chem_all)                                          # 94,059 chemicals\n"
   ]
  },
  {
   "cell_type": "code",
   "execution_count": 24,
   "metadata": {},
   "outputs": [],
   "source": [
    "chem_hasMol = [Chem.MolFromSmiles(i) for i in chems if Chem.MolFromSmiles(i)]    # 94,059 chemicals\n"
   ]
  },
  {
   "cell_type": "code",
   "execution_count": 27,
   "metadata": {},
   "outputs": [
    {
     "name": "stdout",
     "output_type": "stream",
     "text": [
      "each similarity calculation:  0.0019063586950302126  s\n",
      "estimate time for 94,053 chems:  4684.927054435236  h\n"
     ]
    }
   ],
   "source": [
    "import time\n",
    "\n",
    "n = 100\n",
    "start = time.time()\n",
    "similarity = np.zeros((n, n))\n",
    "for i in range(1, n):\n",
    "    for j in range(i, n):\n",
    "        similarity[i, j] = FingerprintSimilarity(Chem.RDKFingerprint(chem_hasMol[i]), \n",
    "                                                 Chem.RDKFingerprint(chem_hasMol[j]))\n",
    "\n",
    "es = (time.time() - start)/n/n\n",
    "print(\"each similarity calculation: \", es, \" s\")\n",
    "nn = len(chems)\n",
    "print(\"estimate time for 94,053 chems: \", es*nn*nn/60/60, \" h\")\n"
   ]
  },
  {
   "cell_type": "code",
   "execution_count": 29,
   "metadata": {},
   "outputs": [
    {
     "data": {
      "text/plain": [
       "17.931019249584676"
      ]
     },
     "execution_count": 29,
     "metadata": {},
     "output_type": "execute_result"
    }
   ],
   "source": [
    "es*nn*6/60"
   ]
  },
  {
   "cell_type": "code",
   "execution_count": null,
   "metadata": {},
   "outputs": [],
   "source": [
    "similarity = similarity + similarity.T + np.eye(n)\n"
   ]
  },
  {
   "cell_type": "code",
   "execution_count": null,
   "metadata": {},
   "outputs": [],
   "source": [
    "# Clusting\n",
    "clustering = AffinityPropagation(random_state=5).fit(similarity)\n",
    "cluster_centers_indices = af.cluster_centers_indices_\n",
    "labels = af.labels_\n",
    "\n",
    "n_clusters_ = len(cluster_centers_indices)\n",
    "clustering.cluster_centers_\n",
    "\n",
    "print('Estimated number of clusters: %d' % n_clusters_)\n",
    "print(\"Silhouette Coefficient: %0.3f\"\n",
    "      % metrics.silhouette_score(X, labels, metric='sqeuclidean'))\n"
   ]
  },
  {
   "cell_type": "code",
   "execution_count": null,
   "metadata": {},
   "outputs": [],
   "source": [
    "\n",
    "\n"
   ]
  },
  {
   "cell_type": "code",
   "execution_count": null,
   "metadata": {},
   "outputs": [],
   "source": []
  }
 ],
 "metadata": {
  "hide_input": false,
  "kernelspec": {
   "display_name": "Python 3",
   "language": "python",
   "name": "python3"
  },
  "language_info": {
   "codemirror_mode": {
    "name": "ipython",
    "version": 3
   },
   "file_extension": ".py",
   "mimetype": "text/x-python",
   "name": "python",
   "nbconvert_exporter": "python",
   "pygments_lexer": "ipython3",
   "version": "3.6.7"
  },
  "toc": {
   "base_numbering": 1,
   "nav_menu": {},
   "number_sections": true,
   "sideBar": true,
   "skip_h1_title": false,
   "title_cell": "Table of Contents",
   "title_sidebar": "Contents",
   "toc_cell": true,
   "toc_position": {},
   "toc_section_display": true,
   "toc_window_display": false
  },
  "varInspector": {
   "cols": {
    "lenName": 16,
    "lenType": 16,
    "lenVar": 40
   },
   "kernels_config": {
    "python": {
     "delete_cmd_postfix": "",
     "delete_cmd_prefix": "del ",
     "library": "var_list.py",
     "varRefreshCmd": "print(var_dic_list())"
    },
    "r": {
     "delete_cmd_postfix": ") ",
     "delete_cmd_prefix": "rm(",
     "library": "var_list.r",
     "varRefreshCmd": "cat(var_dic_list()) "
    }
   },
   "types_to_exclude": [
    "module",
    "function",
    "builtin_function_or_method",
    "instance",
    "_Feature"
   ],
   "window_display": false
  }
 },
 "nbformat": 4,
 "nbformat_minor": 4
}
